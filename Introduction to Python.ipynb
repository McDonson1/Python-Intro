{
 "cells": [
  {
   "cell_type": "code",
   "execution_count": 1,
   "id": "5bc3b16e-cc12-489e-a59c-65f58ac465a9",
   "metadata": {},
   "outputs": [
    {
     "name": "stdout",
     "output_type": "stream",
     "text": [
      "Hello World\n"
     ]
    }
   ],
   "source": [
    "print(\"Hello World\")"
   ]
  },
  {
   "cell_type": "code",
   "execution_count": 3,
   "id": "7e8fc456-0ba5-46c0-961b-69fb954d9b45",
   "metadata": {},
   "outputs": [
    {
     "name": "stdout",
     "output_type": "stream",
     "text": [
      "yes\n"
     ]
    }
   ],
   "source": [
    "if 5>2:\n",
    "    print (\"yes\")"
   ]
  },
  {
   "cell_type": "code",
   "execution_count": 5,
   "id": "5275ba52-9101-4aad-8107-bf29535cd6e1",
   "metadata": {},
   "outputs": [
    {
     "name": "stdout",
     "output_type": "stream",
     "text": [
      "yes\n"
     ]
    }
   ],
   "source": [
    "'''Learning about indentation'''\n",
    "if 5>2:\n",
    "    print (\"yes\")"
   ]
  },
  {
   "cell_type": "code",
   "execution_count": 6,
   "id": "491e9e56-0a60-4177-8855-0617897231e4",
   "metadata": {},
   "outputs": [
    {
     "name": "stdout",
     "output_type": "stream",
     "text": [
      "5\n",
      "John\n"
     ]
    }
   ],
   "source": [
    "x = 5\n",
    "y = \"John\"\n",
    "print(x)\n",
    "print(y)"
   ]
  },
  {
   "cell_type": "code",
   "execution_count": 7,
   "id": "1eab38b0-ee41-41e2-b495-f3d9cd6123b9",
   "metadata": {},
   "outputs": [
    {
     "data": {
      "text/plain": [
       "7"
      ]
     },
     "execution_count": 7,
     "metadata": {},
     "output_type": "execute_result"
    }
   ],
   "source": [
    "x = 3\n",
    "y = 4\n",
    "z = x+y\n",
    "z"
   ]
  },
  {
   "cell_type": "code",
   "execution_count": 8,
   "id": "e23cf729-9b1b-4983-bdd1-41a0823fb4ec",
   "metadata": {},
   "outputs": [
    {
     "data": {
      "text/plain": [
       "'34'"
      ]
     },
     "execution_count": 8,
     "metadata": {},
     "output_type": "execute_result"
    }
   ],
   "source": [
    "x = str(3)\n",
    "y = str(4)\n",
    "z = x+y\n",
    "z"
   ]
  },
  {
   "cell_type": "code",
   "execution_count": 9,
   "id": "ae047566-ff69-4a8c-83bb-c441545623e0",
   "metadata": {},
   "outputs": [
    {
     "data": {
      "text/plain": [
       "'Orange'"
      ]
     },
     "execution_count": 9,
     "metadata": {},
     "output_type": "execute_result"
    }
   ],
   "source": [
    "x = y = z = \"Orange\"\n",
    "x"
   ]
  },
  {
   "cell_type": "code",
   "execution_count": 10,
   "id": "c8c5305d-afbe-40ee-8ce8-cc50d7e05df1",
   "metadata": {},
   "outputs": [
    {
     "data": {
      "text/plain": [
       "'Orange'"
      ]
     },
     "execution_count": 10,
     "metadata": {},
     "output_type": "execute_result"
    }
   ],
   "source": [
    "y"
   ]
  },
  {
   "cell_type": "code",
   "execution_count": 11,
   "id": "fc8e0630-618a-4995-afd0-78e6d4044ce1",
   "metadata": {},
   "outputs": [
    {
     "data": {
      "text/plain": [
       "'Orange'"
      ]
     },
     "execution_count": 11,
     "metadata": {},
     "output_type": "execute_result"
    }
   ],
   "source": [
    "z"
   ]
  },
  {
   "cell_type": "code",
   "execution_count": 12,
   "id": "372aca45-e973-4be8-a398-0f3762bfe54e",
   "metadata": {},
   "outputs": [],
   "source": [
    "fruits = [\"apple\", \"banana\", \"cherry\"]\n",
    "x,y,z = fruits"
   ]
  },
  {
   "cell_type": "code",
   "execution_count": 13,
   "id": "bdc9c995-15df-4bb8-a7bd-eba738503d36",
   "metadata": {},
   "outputs": [
    {
     "data": {
      "text/plain": [
       "'apple'"
      ]
     },
     "execution_count": 13,
     "metadata": {},
     "output_type": "execute_result"
    }
   ],
   "source": [
    "x"
   ]
  },
  {
   "cell_type": "code",
   "execution_count": 14,
   "id": "79dbff13-1892-4d7e-9418-d746d4442e2a",
   "metadata": {},
   "outputs": [
    {
     "data": {
      "text/plain": [
       "'banana'"
      ]
     },
     "execution_count": 14,
     "metadata": {},
     "output_type": "execute_result"
    }
   ],
   "source": [
    "y"
   ]
  },
  {
   "cell_type": "code",
   "execution_count": 15,
   "id": "a67380da-adbb-4752-b1d4-56ab42b8bdf5",
   "metadata": {},
   "outputs": [
    {
     "data": {
      "text/plain": [
       "'cherry'"
      ]
     },
     "execution_count": 15,
     "metadata": {},
     "output_type": "execute_result"
    }
   ],
   "source": [
    "z"
   ]
  },
  {
   "cell_type": "code",
   "execution_count": 22,
   "id": "515e3f7f-7ec7-4bcb-b5e6-31744d37b336",
   "metadata": {},
   "outputs": [
    {
     "name": "stdout",
     "output_type": "stream",
     "text": [
      " Python  is  awesome \n"
     ]
    }
   ],
   "source": [
    "x = \" Python \"\n",
    "y = \" is \"\n",
    "z = \" awesome \"\n",
    "print (x + y + z)"
   ]
  },
  {
   "cell_type": "code",
   "execution_count": 25,
   "id": "99758107-0692-4b04-bfb7-628fec3b65d4",
   "metadata": {},
   "outputs": [
    {
     "name": "stdout",
     "output_type": "stream",
     "text": [
      "5 Joy\n"
     ]
    }
   ],
   "source": [
    "x = 5\n",
    "y = \"Joy\"\n",
    "print (x,y)"
   ]
  },
  {
   "cell_type": "code",
   "execution_count": 26,
   "id": "2a186afe-8ecd-4a1a-ba89-7aca1f33df36",
   "metadata": {},
   "outputs": [
    {
     "name": "stdout",
     "output_type": "stream",
     "text": [
      "Python is awesome\n"
     ]
    }
   ],
   "source": [
    "x = \"awesome\"\n",
    "\n",
    "def myfunc():\n",
    "  print(\"Python is \" + x)\n",
    "\n",
    "myfunc()"
   ]
  },
  {
   "cell_type": "code",
   "execution_count": 31,
   "id": "76df85b6-fc5f-4b36-9432-b348625e5884",
   "metadata": {},
   "outputs": [
    {
     "name": "stdout",
     "output_type": "stream",
     "text": [
      "Python is fantastic\n",
      "Python is awesome\n"
     ]
    }
   ],
   "source": [
    "x = \"awesome\"\n",
    "\n",
    "def myfunc():\n",
    "  w= \"fantastic\"\n",
    "  print(\"Python is \" + w)\n",
    "\n",
    "myfunc()\n",
    "\n",
    "print(\"Python is \" + x)"
   ]
  },
  {
   "cell_type": "code",
   "execution_count": 29,
   "id": "830705a4-6621-4137-b8a5-d5c68b3a9c98",
   "metadata": {},
   "outputs": [
    {
     "data": {
      "text/plain": [
       "'awesome'"
      ]
     },
     "execution_count": 29,
     "metadata": {},
     "output_type": "execute_result"
    }
   ],
   "source": [
    "x"
   ]
  },
  {
   "cell_type": "code",
   "execution_count": 34,
   "id": "3fa8ef39-5d52-470d-8367-c70cfea533cc",
   "metadata": {},
   "outputs": [],
   "source": [
    "import random"
   ]
  },
  {
   "cell_type": "code",
   "execution_count": 35,
   "id": "308aa83d-5784-4c4c-907a-dc8ffbc670b3",
   "metadata": {},
   "outputs": [
    {
     "data": {
      "text/plain": [
       "8"
      ]
     },
     "execution_count": 35,
     "metadata": {},
     "output_type": "execute_result"
    }
   ],
   "source": [
    "random.randrange(1,10)"
   ]
  },
  {
   "cell_type": "code",
   "execution_count": 36,
   "id": "0fe638ca-2509-4b86-b96c-a208d4fc8142",
   "metadata": {},
   "outputs": [
    {
     "name": "stdout",
     "output_type": "stream",
     "text": [
      "l\n"
     ]
    }
   ],
   "source": [
    "a = \"Hello World\"\n",
    "print (a[2])"
   ]
  },
  {
   "cell_type": "code",
   "execution_count": 37,
   "id": "6b2add9c-52da-47a4-bcc0-ce34d778a33c",
   "metadata": {},
   "outputs": [
    {
     "data": {
      "text/plain": [
       "11"
      ]
     },
     "execution_count": 37,
     "metadata": {},
     "output_type": "execute_result"
    }
   ],
   "source": [
    "len(a)"
   ]
  },
  {
   "cell_type": "code",
   "execution_count": 38,
   "id": "f21510fd-f724-43e1-af6a-f56a7f4b2885",
   "metadata": {},
   "outputs": [
    {
     "name": "stdout",
     "output_type": "stream",
     "text": [
      "H\n",
      "e\n",
      "l\n",
      "l\n",
      "o\n"
     ]
    }
   ],
   "source": [
    "for y in \"Hello\":\n",
    "    print(y)"
   ]
  },
  {
   "cell_type": "code",
   "execution_count": 58,
   "id": "a5090acf-1d3d-4106-bc99-c7df4b6ef352",
   "metadata": {},
   "outputs": [
    {
     "name": "stdout",
     "output_type": "stream",
     "text": [
      "My name is Donald  I am 15 my favorite colour is blue  and in 5 years i will be 20\n"
     ]
    }
   ],
   "source": [
    "a = \" Donald \"\n",
    "b = str (15) \n",
    "c = \" blue \"\n",
    "d = str (15+5)\n",
    "print (\"My name is\" +a, \"I am\" +\" \" +b, \"my favorite colour is\" +c, \n",
    "    \"and in 5 years i will be\" +\" \"+d)\n"
   ]
  },
  {
   "cell_type": "code",
   "execution_count": 2,
   "id": "1b6e1400-19dd-45aa-8929-843f37723b33",
   "metadata": {},
   "outputs": [
    {
     "name": "stdin",
     "output_type": "stream",
     "text": [
      "Please your name:  McDonald\n",
      "Please your age:  18\n",
      "Please your favorite colour:  blue\n"
     ]
    },
    {
     "name": "stdout",
     "output_type": "stream",
     "text": [
      "My name is McDonald, i am 18 years old and my favorite colour is blue.\n"
     ]
    }
   ],
   "source": [
    "name = str(input(\"Please your name: \"))\n",
    "age = int(input(\"Please your age: \"))\n",
    "Favorite_colour = str(input(\"Please your favorite colour: \"))\n",
    "print(f\"My name is {name}, i am {age} years old and my favorite colour is {Favorite_colour}.\")"
   ]
  },
  {
   "cell_type": "code",
   "execution_count": 2,
   "id": "753e551a-b8fe-4262-a239-dec92a8dd694",
   "metadata": {},
   "outputs": [
    {
     "name": "stdout",
     "output_type": "stream",
     "text": [
      "llo\n"
     ]
    }
   ],
   "source": [
    " b= \"Hello World!\"\n",
    "print(b[2:5])"
   ]
  },
  {
   "cell_type": "code",
   "execution_count": 7,
   "id": "0b79984d-1a86-4555-a31a-c3475701e3c7",
   "metadata": {},
   "outputs": [
    {
     "name": "stdout",
     "output_type": "stream",
     "text": [
      "llo W\n"
     ]
    }
   ],
   "source": [
    " b= \"Hello World!\"\n",
    "print(b[2:7])"
   ]
  },
  {
   "cell_type": "code",
   "execution_count": 22,
   "id": "50f2b786-323c-49c1-9a22-f85961889f30",
   "metadata": {},
   "outputs": [
    {
     "name": "stdin",
     "output_type": "stream",
     "text": [
      "enter your first number 1\n",
      "enter your second number 2\n"
     ]
    },
    {
     "name": "stdout",
     "output_type": "stream",
     "text": [
      "answer is 3.0\n",
      "answer is -1.0\n",
      "answer is 0.5\n",
      "answer is 2.0\n",
      "answer is 1.0\n"
     ]
    }
   ],
   "source": [
    "num_1 = float(input(\"enter your first number\"))\n",
    "num_2 = float(input(\"enter your second number\"))\n",
    "add = num_1 + num_2\n",
    "sub = num_1 - num_2\n",
    "div = num_1/num_2\n",
    "product = num_1*num_2\n",
    "exp = num_1**num_2\n",
    "print(f\"answer is {add}\")\n",
    "print(f\"answer is {sub}\")\n",
    "print(f\"answer is {div}\")\n",
    "print(f\"answer is {product}\")\n",
    "print(f\"answer is {exp}\")"
   ]
  },
  {
   "cell_type": "code",
   "execution_count": 10,
   "id": "fd9d8c68-062c-4e32-8e6f-7e903f067b8c",
   "metadata": {},
   "outputs": [],
   "source": [
    "import random"
   ]
  },
  {
   "cell_type": "code",
   "execution_count": 23,
   "id": "a35e9478-42e6-44f1-baab-4a0c88447a58",
   "metadata": {},
   "outputs": [
    {
     "data": {
      "text/plain": [
       "'ello Wo'"
      ]
     },
     "execution_count": 23,
     "metadata": {},
     "output_type": "execute_result"
    }
   ],
   "source": [
    "a = \"Hello World\"\n",
    "a[(random.randrange(0,10)):(random.randrange(0,10))]"
   ]
  },
  {
   "cell_type": "code",
   "execution_count": 24,
   "id": "8040d128-b5af-44bc-8998-cf534221b615",
   "metadata": {},
   "outputs": [
    {
     "data": {
      "text/plain": [
       "'HELLO WORLD'"
      ]
     },
     "execution_count": 24,
     "metadata": {},
     "output_type": "execute_result"
    }
   ],
   "source": [
    "a.upper()"
   ]
  },
  {
   "cell_type": "code",
   "execution_count": 25,
   "id": "50f5def5-4502-488e-9f44-95a6dcda0cd4",
   "metadata": {},
   "outputs": [
    {
     "data": {
      "text/plain": [
       "'hello world'"
      ]
     },
     "execution_count": 25,
     "metadata": {},
     "output_type": "execute_result"
    }
   ],
   "source": [
    "a.lower()"
   ]
  },
  {
   "cell_type": "code",
   "execution_count": 28,
   "id": "c7829432-9ffa-4769-8ecb-f774fa8c0cc6",
   "metadata": {},
   "outputs": [],
   "source": [
    "a = a.replace(\"H\",\"Y\")"
   ]
  },
  {
   "cell_type": "code",
   "execution_count": 29,
   "id": "db3fa38d-7c3a-43fb-afbe-a73dc4e02ab4",
   "metadata": {},
   "outputs": [
    {
     "data": {
      "text/plain": [
       "'Yello World'"
      ]
     },
     "execution_count": 29,
     "metadata": {},
     "output_type": "execute_result"
    }
   ],
   "source": [
    "a"
   ]
  },
  {
   "cell_type": "code",
   "execution_count": 31,
   "id": "e677f464-b6ff-4ae5-8685-97e9b476b9ad",
   "metadata": {},
   "outputs": [
    {
     "data": {
      "text/plain": [
       "['Yello', 'World']"
      ]
     },
     "execution_count": 31,
     "metadata": {},
     "output_type": "execute_result"
    }
   ],
   "source": [
    "a.split(\" \")"
   ]
  },
  {
   "cell_type": "code",
   "execution_count": 19,
   "id": "77923d47-76c9-4be3-aa30-910873d0c141",
   "metadata": {},
   "outputs": [],
   "source": [
    "age = [12,13,14,15,16,17,18,19,20,21]\n",
    "total_age = 0\n",
    "for i in age:\n",
    "    total_age += i    "
   ]
  },
  {
   "cell_type": "code",
   "execution_count": 20,
   "id": "27e155b8-5c6a-4977-a2e5-77d262665510",
   "metadata": {},
   "outputs": [
    {
     "data": {
      "text/plain": [
       "165"
      ]
     },
     "execution_count": 20,
     "metadata": {},
     "output_type": "execute_result"
    }
   ],
   "source": [
    "total_age"
   ]
  },
  {
   "cell_type": "code",
   "execution_count": 21,
   "id": "2b1b6567-caca-41af-8faf-eb4123a8e922",
   "metadata": {},
   "outputs": [],
   "source": [
    "age = [12,13,14,15,16,17,18,19,20,21]\n",
    "Product_age = 1\n",
    "for i in age:\n",
    "    Product_age *= i"
   ]
  },
  {
   "cell_type": "code",
   "execution_count": 22,
   "id": "f8ec2f53-5f45-497c-9b70-d30bd9c5fabd",
   "metadata": {},
   "outputs": [
    {
     "data": {
      "text/plain": [
       "1279935820800"
      ]
     },
     "execution_count": 22,
     "metadata": {},
     "output_type": "execute_result"
    }
   ],
   "source": [
    "Product_age"
   ]
  },
  {
   "cell_type": "code",
   "execution_count": null,
   "id": "3e0b7730-4d60-428a-a7c2-36b300165d62",
   "metadata": {},
   "outputs": [],
   "source": []
  },
  {
   "cell_type": "code",
   "execution_count": 5,
   "id": "646dfbfe-9636-45ae-8c74-58c934864ece",
   "metadata": {},
   "outputs": [
    {
     "name": "stdin",
     "output_type": "stream",
     "text": [
      "Kindly input your lotto number:  8\n"
     ]
    },
    {
     "name": "stdout",
     "output_type": "stream",
     "text": [
      "CONGRATULATIONS, YOU HAVE WON 100 MILLION DOLLARS\n"
     ]
    }
   ],
   "source": [
    "lucky_num = random.randrange(0,10)\n",
    "player_num = int(input(\"Kindly input your lotto number: \"))\n",
    "if player_num == lucky_num:\n",
    "    print(\"CONGRATULATIONS, YOU HAVE WON 100 MILLION DOLLARS\")\n",
    "else:\n",
    "    print(\"Please try again, you might be lucky\")"
   ]
  },
  {
   "cell_type": "code",
   "execution_count": 7,
   "id": "7ba62da7-da26-4bf9-b3cc-27525686dc80",
   "metadata": {},
   "outputs": [
    {
     "name": "stdout",
     "output_type": "stream",
     "text": [
      "Collecting nbclassic\n",
      "  Downloading nbclassic-1.1.0-py3-none-any.whl.metadata (3.6 kB)\n",
      "Requirement already satisfied: ipython-genutils in c:\\users\\user\\anaconda3\\lib\\site-packages (from nbclassic) (0.2.0)\n",
      "Requirement already satisfied: notebook-shim>=0.2.3 in c:\\users\\user\\anaconda3\\lib\\site-packages (from nbclassic) (0.2.3)\n",
      "Requirement already satisfied: nest-asyncio>=1.5 in c:\\users\\user\\anaconda3\\lib\\site-packages (from nbclassic) (1.6.0)\n",
      "Requirement already satisfied: ipykernel in c:\\users\\user\\anaconda3\\lib\\site-packages (from nbclassic) (6.28.0)\n",
      "Requirement already satisfied: jupyter-server<3,>=1.8 in c:\\users\\user\\anaconda3\\lib\\site-packages (from notebook-shim>=0.2.3->nbclassic) (2.10.0)\n",
      "Requirement already satisfied: comm>=0.1.1 in c:\\users\\user\\anaconda3\\lib\\site-packages (from ipykernel->nbclassic) (0.1.2)\n",
      "Requirement already satisfied: debugpy>=1.6.5 in c:\\users\\user\\anaconda3\\lib\\site-packages (from ipykernel->nbclassic) (1.6.7)\n",
      "Requirement already satisfied: ipython>=7.23.1 in c:\\users\\user\\anaconda3\\lib\\site-packages (from ipykernel->nbclassic) (8.20.0)\n",
      "Requirement already satisfied: jupyter-client>=6.1.12 in c:\\users\\user\\anaconda3\\lib\\site-packages (from ipykernel->nbclassic) (8.6.0)\n",
      "Requirement already satisfied: jupyter-core!=5.0.*,>=4.12 in c:\\users\\user\\anaconda3\\lib\\site-packages (from ipykernel->nbclassic) (5.5.0)\n",
      "Requirement already satisfied: matplotlib-inline>=0.1 in c:\\users\\user\\anaconda3\\lib\\site-packages (from ipykernel->nbclassic) (0.1.6)\n",
      "Requirement already satisfied: packaging in c:\\users\\user\\anaconda3\\lib\\site-packages (from ipykernel->nbclassic) (23.1)\n",
      "Requirement already satisfied: psutil in c:\\users\\user\\anaconda3\\lib\\site-packages (from ipykernel->nbclassic) (5.9.0)\n",
      "Requirement already satisfied: pyzmq>=24 in c:\\users\\user\\anaconda3\\lib\\site-packages (from ipykernel->nbclassic) (25.1.2)\n",
      "Requirement already satisfied: tornado>=6.1 in c:\\users\\user\\anaconda3\\lib\\site-packages (from ipykernel->nbclassic) (6.3.3)\n",
      "Requirement already satisfied: traitlets>=5.4.0 in c:\\users\\user\\anaconda3\\lib\\site-packages (from ipykernel->nbclassic) (5.7.1)\n",
      "Requirement already satisfied: decorator in c:\\users\\user\\anaconda3\\lib\\site-packages (from ipython>=7.23.1->ipykernel->nbclassic) (5.1.1)\n",
      "Requirement already satisfied: jedi>=0.16 in c:\\users\\user\\anaconda3\\lib\\site-packages (from ipython>=7.23.1->ipykernel->nbclassic) (0.18.1)\n",
      "Requirement already satisfied: prompt-toolkit<3.1.0,>=3.0.41 in c:\\users\\user\\anaconda3\\lib\\site-packages (from ipython>=7.23.1->ipykernel->nbclassic) (3.0.43)\n",
      "Requirement already satisfied: pygments>=2.4.0 in c:\\users\\user\\anaconda3\\lib\\site-packages (from ipython>=7.23.1->ipykernel->nbclassic) (2.15.1)\n",
      "Requirement already satisfied: stack-data in c:\\users\\user\\anaconda3\\lib\\site-packages (from ipython>=7.23.1->ipykernel->nbclassic) (0.2.0)\n",
      "Requirement already satisfied: colorama in c:\\users\\user\\anaconda3\\lib\\site-packages (from ipython>=7.23.1->ipykernel->nbclassic) (0.4.6)\n",
      "Requirement already satisfied: python-dateutil>=2.8.2 in c:\\users\\user\\anaconda3\\lib\\site-packages (from jupyter-client>=6.1.12->ipykernel->nbclassic) (2.8.2)\n",
      "Requirement already satisfied: platformdirs>=2.5 in c:\\users\\user\\anaconda3\\lib\\site-packages (from jupyter-core!=5.0.*,>=4.12->ipykernel->nbclassic) (3.10.0)\n",
      "Requirement already satisfied: pywin32>=300 in c:\\users\\user\\anaconda3\\lib\\site-packages (from jupyter-core!=5.0.*,>=4.12->ipykernel->nbclassic) (305.1)\n",
      "Requirement already satisfied: anyio>=3.1.0 in c:\\users\\user\\anaconda3\\lib\\site-packages (from jupyter-server<3,>=1.8->notebook-shim>=0.2.3->nbclassic) (4.2.0)\n",
      "Requirement already satisfied: argon2-cffi in c:\\users\\user\\anaconda3\\lib\\site-packages (from jupyter-server<3,>=1.8->notebook-shim>=0.2.3->nbclassic) (21.3.0)\n",
      "Requirement already satisfied: jinja2 in c:\\users\\user\\anaconda3\\lib\\site-packages (from jupyter-server<3,>=1.8->notebook-shim>=0.2.3->nbclassic) (3.1.3)\n",
      "Requirement already satisfied: jupyter-events>=0.6.0 in c:\\users\\user\\anaconda3\\lib\\site-packages (from jupyter-server<3,>=1.8->notebook-shim>=0.2.3->nbclassic) (0.8.0)\n",
      "Requirement already satisfied: jupyter-server-terminals in c:\\users\\user\\anaconda3\\lib\\site-packages (from jupyter-server<3,>=1.8->notebook-shim>=0.2.3->nbclassic) (0.4.4)\n",
      "Requirement already satisfied: nbconvert>=6.4.4 in c:\\users\\user\\anaconda3\\lib\\site-packages (from jupyter-server<3,>=1.8->notebook-shim>=0.2.3->nbclassic) (7.10.0)\n",
      "Requirement already satisfied: nbformat>=5.3.0 in c:\\users\\user\\anaconda3\\lib\\site-packages (from jupyter-server<3,>=1.8->notebook-shim>=0.2.3->nbclassic) (5.9.2)\n",
      "Requirement already satisfied: overrides in c:\\users\\user\\anaconda3\\lib\\site-packages (from jupyter-server<3,>=1.8->notebook-shim>=0.2.3->nbclassic) (7.4.0)\n",
      "Requirement already satisfied: prometheus-client in c:\\users\\user\\anaconda3\\lib\\site-packages (from jupyter-server<3,>=1.8->notebook-shim>=0.2.3->nbclassic) (0.14.1)\n",
      "Requirement already satisfied: pywinpty in c:\\users\\user\\anaconda3\\lib\\site-packages (from jupyter-server<3,>=1.8->notebook-shim>=0.2.3->nbclassic) (2.0.10)\n",
      "Requirement already satisfied: send2trash>=1.8.2 in c:\\users\\user\\anaconda3\\lib\\site-packages (from jupyter-server<3,>=1.8->notebook-shim>=0.2.3->nbclassic) (1.8.2)\n",
      "Requirement already satisfied: terminado>=0.8.3 in c:\\users\\user\\anaconda3\\lib\\site-packages (from jupyter-server<3,>=1.8->notebook-shim>=0.2.3->nbclassic) (0.17.1)\n",
      "Requirement already satisfied: websocket-client in c:\\users\\user\\anaconda3\\lib\\site-packages (from jupyter-server<3,>=1.8->notebook-shim>=0.2.3->nbclassic) (0.58.0)\n",
      "Requirement already satisfied: idna>=2.8 in c:\\users\\user\\anaconda3\\lib\\site-packages (from anyio>=3.1.0->jupyter-server<3,>=1.8->notebook-shim>=0.2.3->nbclassic) (3.4)\n",
      "Requirement already satisfied: sniffio>=1.1 in c:\\users\\user\\anaconda3\\lib\\site-packages (from anyio>=3.1.0->jupyter-server<3,>=1.8->notebook-shim>=0.2.3->nbclassic) (1.3.0)\n",
      "Requirement already satisfied: parso<0.9.0,>=0.8.0 in c:\\users\\user\\anaconda3\\lib\\site-packages (from jedi>=0.16->ipython>=7.23.1->ipykernel->nbclassic) (0.8.3)\n",
      "Requirement already satisfied: jsonschema>=4.18.0 in c:\\users\\user\\anaconda3\\lib\\site-packages (from jsonschema[format-nongpl]>=4.18.0->jupyter-events>=0.6.0->jupyter-server<3,>=1.8->notebook-shim>=0.2.3->nbclassic) (4.19.2)\n",
      "Requirement already satisfied: python-json-logger>=2.0.4 in c:\\users\\user\\anaconda3\\lib\\site-packages (from jupyter-events>=0.6.0->jupyter-server<3,>=1.8->notebook-shim>=0.2.3->nbclassic) (2.0.7)\n",
      "Requirement already satisfied: pyyaml>=5.3 in c:\\users\\user\\anaconda3\\lib\\site-packages (from jupyter-events>=0.6.0->jupyter-server<3,>=1.8->notebook-shim>=0.2.3->nbclassic) (6.0.1)\n",
      "Requirement already satisfied: referencing in c:\\users\\user\\anaconda3\\lib\\site-packages (from jupyter-events>=0.6.0->jupyter-server<3,>=1.8->notebook-shim>=0.2.3->nbclassic) (0.30.2)\n",
      "Requirement already satisfied: rfc3339-validator in c:\\users\\user\\anaconda3\\lib\\site-packages (from jupyter-events>=0.6.0->jupyter-server<3,>=1.8->notebook-shim>=0.2.3->nbclassic) (0.1.4)\n",
      "Requirement already satisfied: rfc3986-validator>=0.1.1 in c:\\users\\user\\anaconda3\\lib\\site-packages (from jupyter-events>=0.6.0->jupyter-server<3,>=1.8->notebook-shim>=0.2.3->nbclassic) (0.1.1)\n",
      "Requirement already satisfied: beautifulsoup4 in c:\\users\\user\\anaconda3\\lib\\site-packages (from nbconvert>=6.4.4->jupyter-server<3,>=1.8->notebook-shim>=0.2.3->nbclassic) (4.12.2)\n",
      "Requirement already satisfied: bleach!=5.0.0 in c:\\users\\user\\anaconda3\\lib\\site-packages (from nbconvert>=6.4.4->jupyter-server<3,>=1.8->notebook-shim>=0.2.3->nbclassic) (4.1.0)\n",
      "Requirement already satisfied: defusedxml in c:\\users\\user\\anaconda3\\lib\\site-packages (from nbconvert>=6.4.4->jupyter-server<3,>=1.8->notebook-shim>=0.2.3->nbclassic) (0.7.1)\n",
      "Requirement already satisfied: jupyterlab-pygments in c:\\users\\user\\anaconda3\\lib\\site-packages (from nbconvert>=6.4.4->jupyter-server<3,>=1.8->notebook-shim>=0.2.3->nbclassic) (0.1.2)\n",
      "Requirement already satisfied: markupsafe>=2.0 in c:\\users\\user\\anaconda3\\lib\\site-packages (from nbconvert>=6.4.4->jupyter-server<3,>=1.8->notebook-shim>=0.2.3->nbclassic) (2.1.3)\n",
      "Requirement already satisfied: mistune<4,>=2.0.3 in c:\\users\\user\\anaconda3\\lib\\site-packages (from nbconvert>=6.4.4->jupyter-server<3,>=1.8->notebook-shim>=0.2.3->nbclassic) (2.0.4)\n",
      "Requirement already satisfied: nbclient>=0.5.0 in c:\\users\\user\\anaconda3\\lib\\site-packages (from nbconvert>=6.4.4->jupyter-server<3,>=1.8->notebook-shim>=0.2.3->nbclassic) (0.8.0)\n",
      "Requirement already satisfied: pandocfilters>=1.4.1 in c:\\users\\user\\anaconda3\\lib\\site-packages (from nbconvert>=6.4.4->jupyter-server<3,>=1.8->notebook-shim>=0.2.3->nbclassic) (1.5.0)\n",
      "Requirement already satisfied: tinycss2 in c:\\users\\user\\anaconda3\\lib\\site-packages (from nbconvert>=6.4.4->jupyter-server<3,>=1.8->notebook-shim>=0.2.3->nbclassic) (1.2.1)\n",
      "Requirement already satisfied: fastjsonschema in c:\\users\\user\\anaconda3\\lib\\site-packages (from nbformat>=5.3.0->jupyter-server<3,>=1.8->notebook-shim>=0.2.3->nbclassic) (2.16.2)\n",
      "Requirement already satisfied: wcwidth in c:\\users\\user\\anaconda3\\lib\\site-packages (from prompt-toolkit<3.1.0,>=3.0.41->ipython>=7.23.1->ipykernel->nbclassic) (0.2.5)\n",
      "Requirement already satisfied: six>=1.5 in c:\\users\\user\\anaconda3\\lib\\site-packages (from python-dateutil>=2.8.2->jupyter-client>=6.1.12->ipykernel->nbclassic) (1.16.0)\n",
      "Requirement already satisfied: argon2-cffi-bindings in c:\\users\\user\\anaconda3\\lib\\site-packages (from argon2-cffi->jupyter-server<3,>=1.8->notebook-shim>=0.2.3->nbclassic) (21.2.0)\n",
      "Requirement already satisfied: executing in c:\\users\\user\\anaconda3\\lib\\site-packages (from stack-data->ipython>=7.23.1->ipykernel->nbclassic) (0.8.3)\n",
      "Requirement already satisfied: asttokens in c:\\users\\user\\anaconda3\\lib\\site-packages (from stack-data->ipython>=7.23.1->ipykernel->nbclassic) (2.0.5)\n",
      "Requirement already satisfied: pure-eval in c:\\users\\user\\anaconda3\\lib\\site-packages (from stack-data->ipython>=7.23.1->ipykernel->nbclassic) (0.2.2)\n",
      "Requirement already satisfied: webencodings in c:\\users\\user\\anaconda3\\lib\\site-packages (from bleach!=5.0.0->nbconvert>=6.4.4->jupyter-server<3,>=1.8->notebook-shim>=0.2.3->nbclassic) (0.5.1)\n",
      "Requirement already satisfied: attrs>=22.2.0 in c:\\users\\user\\anaconda3\\lib\\site-packages (from jsonschema>=4.18.0->jsonschema[format-nongpl]>=4.18.0->jupyter-events>=0.6.0->jupyter-server<3,>=1.8->notebook-shim>=0.2.3->nbclassic) (23.1.0)\n",
      "Requirement already satisfied: jsonschema-specifications>=2023.03.6 in c:\\users\\user\\anaconda3\\lib\\site-packages (from jsonschema>=4.18.0->jsonschema[format-nongpl]>=4.18.0->jupyter-events>=0.6.0->jupyter-server<3,>=1.8->notebook-shim>=0.2.3->nbclassic) (2023.7.1)\n",
      "Requirement already satisfied: rpds-py>=0.7.1 in c:\\users\\user\\anaconda3\\lib\\site-packages (from jsonschema>=4.18.0->jsonschema[format-nongpl]>=4.18.0->jupyter-events>=0.6.0->jupyter-server<3,>=1.8->notebook-shim>=0.2.3->nbclassic) (0.10.6)\n",
      "Collecting fqdn (from jsonschema[format-nongpl]>=4.18.0->jupyter-events>=0.6.0->jupyter-server<3,>=1.8->notebook-shim>=0.2.3->nbclassic)\n",
      "  Downloading fqdn-1.5.1-py3-none-any.whl.metadata (1.4 kB)\n",
      "Collecting isoduration (from jsonschema[format-nongpl]>=4.18.0->jupyter-events>=0.6.0->jupyter-server<3,>=1.8->notebook-shim>=0.2.3->nbclassic)\n",
      "  Downloading isoduration-20.11.0-py3-none-any.whl.metadata (5.7 kB)\n",
      "Requirement already satisfied: jsonpointer>1.13 in c:\\users\\user\\anaconda3\\lib\\site-packages (from jsonschema[format-nongpl]>=4.18.0->jupyter-events>=0.6.0->jupyter-server<3,>=1.8->notebook-shim>=0.2.3->nbclassic) (2.1)\n",
      "Collecting uri-template (from jsonschema[format-nongpl]>=4.18.0->jupyter-events>=0.6.0->jupyter-server<3,>=1.8->notebook-shim>=0.2.3->nbclassic)\n",
      "  Downloading uri_template-1.3.0-py3-none-any.whl.metadata (8.8 kB)\n",
      "Collecting webcolors>=1.11 (from jsonschema[format-nongpl]>=4.18.0->jupyter-events>=0.6.0->jupyter-server<3,>=1.8->notebook-shim>=0.2.3->nbclassic)\n",
      "  Downloading webcolors-24.11.1-py3-none-any.whl.metadata (2.2 kB)\n",
      "Requirement already satisfied: cffi>=1.0.1 in c:\\users\\user\\anaconda3\\lib\\site-packages (from argon2-cffi-bindings->argon2-cffi->jupyter-server<3,>=1.8->notebook-shim>=0.2.3->nbclassic) (1.16.0)\n",
      "Requirement already satisfied: soupsieve>1.2 in c:\\users\\user\\anaconda3\\lib\\site-packages (from beautifulsoup4->nbconvert>=6.4.4->jupyter-server<3,>=1.8->notebook-shim>=0.2.3->nbclassic) (2.5)\n",
      "Requirement already satisfied: pycparser in c:\\users\\user\\anaconda3\\lib\\site-packages (from cffi>=1.0.1->argon2-cffi-bindings->argon2-cffi->jupyter-server<3,>=1.8->notebook-shim>=0.2.3->nbclassic) (2.21)\n",
      "Requirement already satisfied: arrow>=0.15.0 in c:\\users\\user\\anaconda3\\lib\\site-packages (from isoduration->jsonschema[format-nongpl]>=4.18.0->jupyter-events>=0.6.0->jupyter-server<3,>=1.8->notebook-shim>=0.2.3->nbclassic) (1.2.3)\n",
      "Downloading nbclassic-1.1.0-py3-none-any.whl (10.0 MB)\n",
      "   ---------------------------------------- 0.0/10.0 MB ? eta -:--:--\n",
      "   ---------------------------------------- 0.0/10.0 MB ? eta -:--:--\n",
      "   ---------------------------------------- 0.0/10.0 MB ? eta -:--:--\n",
      "   ---------------------------------------- 0.0/10.0 MB 217.9 kB/s eta 0:00:46\n",
      "   ---------------------------------------- 0.0/10.0 MB 217.9 kB/s eta 0:00:46\n",
      "   ---------------------------------------- 0.0/10.0 MB 217.9 kB/s eta 0:00:46\n",
      "   ---------------------------------------- 0.0/10.0 MB 109.3 kB/s eta 0:01:32\n",
      "   ---------------------------------------- 0.0/10.0 MB 109.3 kB/s eta 0:01:32\n",
      "   ---------------------------------------- 0.1/10.0 MB 191.1 kB/s eta 0:00:52\n",
      "   ---------------------------------------- 0.1/10.0 MB 191.1 kB/s eta 0:00:52\n",
      "   ---------------------------------------- 0.1/10.0 MB 174.7 kB/s eta 0:00:57\n",
      "   ---------------------------------------- 0.1/10.0 MB 204.8 kB/s eta 0:00:49\n",
      "   ---------------------------------------- 0.1/10.0 MB 205.9 kB/s eta 0:00:48\n",
      "    --------------------------------------- 0.1/10.0 MB 224.1 kB/s eta 0:00:44\n",
      "    --------------------------------------- 0.1/10.0 MB 224.1 kB/s eta 0:00:44\n",
      "    --------------------------------------- 0.1/10.0 MB 224.1 kB/s eta 0:00:44\n",
      "    --------------------------------------- 0.1/10.0 MB 224.1 kB/s eta 0:00:44\n",
      "    --------------------------------------- 0.1/10.0 MB 224.1 kB/s eta 0:00:44\n",
      "    --------------------------------------- 0.2/10.0 MB 185.5 kB/s eta 0:00:53\n",
      "    --------------------------------------- 0.2/10.0 MB 184.1 kB/s eta 0:00:54\n",
      "    --------------------------------------- 0.2/10.0 MB 193.4 kB/s eta 0:00:51\n",
      "    --------------------------------------- 0.2/10.0 MB 193.4 kB/s eta 0:00:51\n",
      "    --------------------------------------- 0.2/10.0 MB 193.4 kB/s eta 0:00:51\n",
      "    --------------------------------------- 0.2/10.0 MB 193.4 kB/s eta 0:00:51\n",
      "    --------------------------------------- 0.2/10.0 MB 172.9 kB/s eta 0:00:57\n",
      "    --------------------------------------- 0.2/10.0 MB 176.4 kB/s eta 0:00:56\n",
      "    --------------------------------------- 0.2/10.0 MB 176.4 kB/s eta 0:00:56\n",
      "    --------------------------------------- 0.2/10.0 MB 176.4 kB/s eta 0:00:56\n",
      "    --------------------------------------- 0.2/10.0 MB 176.4 kB/s eta 0:00:56\n",
      "    --------------------------------------- 0.2/10.0 MB 173.3 kB/s eta 0:00:57\n",
      "   - -------------------------------------- 0.3/10.0 MB 169.1 kB/s eta 0:00:58\n",
      "   - -------------------------------------- 0.3/10.0 MB 179.4 kB/s eta 0:00:55\n",
      "   - -------------------------------------- 0.3/10.0 MB 196.0 kB/s eta 0:00:50\n",
      "   - -------------------------------------- 0.3/10.0 MB 196.0 kB/s eta 0:00:50\n",
      "   - -------------------------------------- 0.3/10.0 MB 196.0 kB/s eta 0:00:50\n",
      "   - -------------------------------------- 0.3/10.0 MB 196.0 kB/s eta 0:00:50\n",
      "   - -------------------------------------- 0.3/10.0 MB 196.0 kB/s eta 0:00:50\n",
      "   - -------------------------------------- 0.3/10.0 MB 196.0 kB/s eta 0:00:50\n",
      "   - -------------------------------------- 0.3/10.0 MB 175.2 kB/s eta 0:00:56\n",
      "   - -------------------------------------- 0.3/10.0 MB 176.3 kB/s eta 0:00:55\n",
      "   - -------------------------------------- 0.3/10.0 MB 176.3 kB/s eta 0:00:55\n",
      "   - -------------------------------------- 0.3/10.0 MB 176.3 kB/s eta 0:00:55\n",
      "   - -------------------------------------- 0.3/10.0 MB 176.3 kB/s eta 0:00:55\n",
      "   - -------------------------------------- 0.3/10.0 MB 176.3 kB/s eta 0:00:55\n",
      "   - -------------------------------------- 0.3/10.0 MB 176.3 kB/s eta 0:00:55\n",
      "   - -------------------------------------- 0.3/10.0 MB 176.3 kB/s eta 0:00:55\n",
      "   - -------------------------------------- 0.3/10.0 MB 176.3 kB/s eta 0:00:55\n",
      "   - -------------------------------------- 0.4/10.0 MB 152.6 kB/s eta 0:01:04\n",
      "   - -------------------------------------- 0.4/10.0 MB 152.6 kB/s eta 0:01:04\n",
      "   - -------------------------------------- 0.4/10.0 MB 152.6 kB/s eta 0:01:04\n",
      "   - -------------------------------------- 0.4/10.0 MB 152.6 kB/s eta 0:01:04\n",
      "   - -------------------------------------- 0.4/10.0 MB 145.2 kB/s eta 0:01:07\n",
      "   - -------------------------------------- 0.4/10.0 MB 145.2 kB/s eta 0:01:07\n",
      "   - -------------------------------------- 0.4/10.0 MB 155.9 kB/s eta 0:01:02\n",
      "   - -------------------------------------- 0.4/10.0 MB 157.0 kB/s eta 0:01:01\n",
      "   - -------------------------------------- 0.4/10.0 MB 157.0 kB/s eta 0:01:01\n",
      "   - -------------------------------------- 0.4/10.0 MB 157.0 kB/s eta 0:01:01\n",
      "   - -------------------------------------- 0.4/10.0 MB 157.0 kB/s eta 0:01:01\n",
      "   - -------------------------------------- 0.4/10.0 MB 157.0 kB/s eta 0:01:01\n",
      "   - -------------------------------------- 0.4/10.0 MB 157.0 kB/s eta 0:01:01\n",
      "   - -------------------------------------- 0.4/10.0 MB 157.0 kB/s eta 0:01:01\n",
      "   - -------------------------------------- 0.4/10.0 MB 157.0 kB/s eta 0:01:01\n",
      "   - -------------------------------------- 0.4/10.0 MB 143.4 kB/s eta 0:01:07\n",
      "   - -------------------------------------- 0.5/10.0 MB 144.5 kB/s eta 0:01:07\n",
      "   - -------------------------------------- 0.5/10.0 MB 148.2 kB/s eta 0:01:05\n",
      "   - -------------------------------------- 0.5/10.0 MB 151.7 kB/s eta 0:01:03\n",
      "   -- ------------------------------------- 0.5/10.0 MB 152.0 kB/s eta 0:01:03\n",
      "   -- ------------------------------------- 0.5/10.0 MB 152.0 kB/s eta 0:01:03\n",
      "   -- ------------------------------------- 0.5/10.0 MB 153.8 kB/s eta 0:01:02\n",
      "   -- ------------------------------------- 0.5/10.0 MB 153.8 kB/s eta 0:01:02\n",
      "   -- ------------------------------------- 0.5/10.0 MB 152.6 kB/s eta 0:01:02\n",
      "   -- ------------------------------------- 0.5/10.0 MB 152.6 kB/s eta 0:01:02\n",
      "   -- ------------------------------------- 0.6/10.0 MB 160.2 kB/s eta 0:00:59\n",
      "   -- ------------------------------------- 0.6/10.0 MB 167.4 kB/s eta 0:00:57\n",
      "   -- ------------------------------------- 0.6/10.0 MB 167.4 kB/s eta 0:00:57\n",
      "   -- ------------------------------------- 0.6/10.0 MB 167.4 kB/s eta 0:00:57\n",
      "   -- ------------------------------------- 0.6/10.0 MB 167.4 kB/s eta 0:00:57\n",
      "   -- ------------------------------------- 0.6/10.0 MB 167.4 kB/s eta 0:00:57\n",
      "   -- ------------------------------------- 0.6/10.0 MB 167.4 kB/s eta 0:00:57\n",
      "   -- ------------------------------------- 0.6/10.0 MB 167.4 kB/s eta 0:00:57\n",
      "   -- ------------------------------------- 0.6/10.0 MB 167.4 kB/s eta 0:00:57\n",
      "   -- ------------------------------------- 0.6/10.0 MB 167.4 kB/s eta 0:00:57\n",
      "   -- ------------------------------------- 0.6/10.0 MB 151.6 kB/s eta 0:01:02\n",
      "   -- ------------------------------------- 0.6/10.0 MB 153.8 kB/s eta 0:01:01\n",
      "   -- ------------------------------------- 0.7/10.0 MB 157.6 kB/s eta 0:01:00\n",
      "   -- ------------------------------------- 0.7/10.0 MB 158.3 kB/s eta 0:00:59\n",
      "   -- ------------------------------------- 0.7/10.0 MB 158.3 kB/s eta 0:00:59\n",
      "   -- ------------------------------------- 0.7/10.0 MB 160.2 kB/s eta 0:00:59\n",
      "   -- ------------------------------------- 0.7/10.0 MB 160.9 kB/s eta 0:00:58\n",
      "   -- ------------------------------------- 0.7/10.0 MB 160.9 kB/s eta 0:00:58\n",
      "   -- ------------------------------------- 0.7/10.0 MB 162.1 kB/s eta 0:00:58\n",
      "   -- ------------------------------------- 0.7/10.0 MB 163.9 kB/s eta 0:00:57\n",
      "   -- ------------------------------------- 0.7/10.0 MB 164.4 kB/s eta 0:00:57\n",
      "   --- ------------------------------------ 0.8/10.0 MB 168.9 kB/s eta 0:00:55\n",
      "   --- ------------------------------------ 0.8/10.0 MB 172.2 kB/s eta 0:00:54\n",
      "   --- ------------------------------------ 0.8/10.0 MB 172.2 kB/s eta 0:00:54\n",
      "   --- ------------------------------------ 0.8/10.0 MB 172.2 kB/s eta 0:00:54\n",
      "   --- ------------------------------------ 0.8/10.0 MB 172.2 kB/s eta 0:00:54\n",
      "   --- ------------------------------------ 0.8/10.0 MB 172.2 kB/s eta 0:00:54\n",
      "   --- ------------------------------------ 0.8/10.0 MB 172.2 kB/s eta 0:00:54\n",
      "   --- ------------------------------------ 0.8/10.0 MB 172.2 kB/s eta 0:00:54\n",
      "   --- ------------------------------------ 0.8/10.0 MB 172.2 kB/s eta 0:00:54\n",
      "   --- ------------------------------------ 0.8/10.0 MB 163.3 kB/s eta 0:00:57\n",
      "   --- ------------------------------------ 0.8/10.0 MB 163.3 kB/s eta 0:00:57\n",
      "   --- ------------------------------------ 0.8/10.0 MB 161.3 kB/s eta 0:00:57\n",
      "   --- ------------------------------------ 0.8/10.0 MB 161.3 kB/s eta 0:00:57\n",
      "   --- ------------------------------------ 0.8/10.0 MB 163.4 kB/s eta 0:00:56\n",
      "   --- ------------------------------------ 0.9/10.0 MB 162.9 kB/s eta 0:00:57\n",
      "   --- ------------------------------------ 0.9/10.0 MB 162.9 kB/s eta 0:00:57\n",
      "   --- ------------------------------------ 0.9/10.0 MB 162.9 kB/s eta 0:00:57\n",
      "   --- ------------------------------------ 0.9/10.0 MB 163.4 kB/s eta 0:00:56\n",
      "   --- ------------------------------------ 0.9/10.0 MB 164.3 kB/s eta 0:00:56\n",
      "   --- ------------------------------------ 0.9/10.0 MB 164.3 kB/s eta 0:00:56\n",
      "   --- ------------------------------------ 1.0/10.0 MB 171.7 kB/s eta 0:00:53\n",
      "   --- ------------------------------------ 1.0/10.0 MB 171.7 kB/s eta 0:00:53\n",
      "   --- ------------------------------------ 1.0/10.0 MB 171.7 kB/s eta 0:00:53\n",
      "   --- ------------------------------------ 1.0/10.0 MB 171.7 kB/s eta 0:00:53\n",
      "   --- ------------------------------------ 1.0/10.0 MB 171.7 kB/s eta 0:00:53\n",
      "   --- ------------------------------------ 1.0/10.0 MB 171.7 kB/s eta 0:00:53\n",
      "   --- ------------------------------------ 1.0/10.0 MB 171.7 kB/s eta 0:00:53\n",
      "   --- ------------------------------------ 1.0/10.0 MB 171.7 kB/s eta 0:00:53\n",
      "   --- ------------------------------------ 1.0/10.0 MB 171.7 kB/s eta 0:00:53\n",
      "   --- ------------------------------------ 1.0/10.0 MB 163.4 kB/s eta 0:00:56\n",
      "   --- ------------------------------------ 1.0/10.0 MB 163.4 kB/s eta 0:00:56\n",
      "   --- ------------------------------------ 1.0/10.0 MB 162.6 kB/s eta 0:00:56\n",
      "   ---- ----------------------------------- 1.0/10.0 MB 164.3 kB/s eta 0:00:55\n",
      "   ---- ----------------------------------- 1.0/10.0 MB 164.3 kB/s eta 0:00:55\n",
      "   ---- ----------------------------------- 1.0/10.0 MB 164.3 kB/s eta 0:00:55\n",
      "   ---- ----------------------------------- 1.0/10.0 MB 165.5 kB/s eta 0:00:55\n",
      "   ---- ----------------------------------- 1.0/10.0 MB 165.5 kB/s eta 0:00:55\n",
      "   ---- ----------------------------------- 1.1/10.0 MB 163.8 kB/s eta 0:00:55\n",
      "   ---- ----------------------------------- 1.1/10.0 MB 165.4 kB/s eta 0:00:54\n",
      "   ---- ----------------------------------- 1.1/10.0 MB 164.6 kB/s eta 0:00:55\n",
      "   ---- ----------------------------------- 1.1/10.0 MB 174.5 kB/s eta 0:00:51\n",
      "   ---- ----------------------------------- 1.1/10.0 MB 174.5 kB/s eta 0:00:51\n",
      "   ---- ----------------------------------- 1.1/10.0 MB 174.5 kB/s eta 0:00:51\n",
      "   ---- ----------------------------------- 1.1/10.0 MB 174.5 kB/s eta 0:00:51\n",
      "   ---- ----------------------------------- 1.1/10.0 MB 174.5 kB/s eta 0:00:51\n",
      "   ---- ----------------------------------- 1.1/10.0 MB 174.5 kB/s eta 0:00:51\n",
      "   ---- ----------------------------------- 1.2/10.0 MB 169.5 kB/s eta 0:00:53\n",
      "   ---- ----------------------------------- 1.2/10.0 MB 169.5 kB/s eta 0:00:53\n",
      "   ---- ----------------------------------- 1.2/10.0 MB 171.3 kB/s eta 0:00:52\n",
      "   ---- ----------------------------------- 1.2/10.0 MB 172.7 kB/s eta 0:00:51\n",
      "   ---- ----------------------------------- 1.2/10.0 MB 174.1 kB/s eta 0:00:51\n",
      "   ---- ----------------------------------- 1.2/10.0 MB 174.4 kB/s eta 0:00:51\n",
      "   ---- ----------------------------------- 1.2/10.0 MB 174.4 kB/s eta 0:00:51\n",
      "   ----- ---------------------------------- 1.3/10.0 MB 175.0 kB/s eta 0:00:50\n",
      "   ----- ---------------------------------- 1.3/10.0 MB 175.0 kB/s eta 0:00:50\n",
      "   ----- ---------------------------------- 1.3/10.0 MB 174.5 kB/s eta 0:00:50\n",
      "   ----- ---------------------------------- 1.3/10.0 MB 174.5 kB/s eta 0:00:50\n",
      "   ----- ---------------------------------- 1.3/10.0 MB 174.7 kB/s eta 0:00:50\n",
      "   ----- ---------------------------------- 1.3/10.0 MB 174.7 kB/s eta 0:00:50\n",
      "   ----- ---------------------------------- 1.3/10.0 MB 174.9 kB/s eta 0:00:50\n",
      "   ----- ---------------------------------- 1.3/10.0 MB 175.1 kB/s eta 0:00:50\n",
      "   ----- ---------------------------------- 1.4/10.0 MB 180.8 kB/s eta 0:00:48\n",
      "   ----- ---------------------------------- 1.4/10.0 MB 180.8 kB/s eta 0:00:48\n",
      "   ----- ---------------------------------- 1.4/10.0 MB 180.8 kB/s eta 0:00:48\n",
      "   ----- ---------------------------------- 1.4/10.0 MB 180.8 kB/s eta 0:00:48\n",
      "   ----- ---------------------------------- 1.4/10.0 MB 180.8 kB/s eta 0:00:48\n",
      "   ----- ---------------------------------- 1.4/10.0 MB 180.8 kB/s eta 0:00:48\n",
      "   ----- ---------------------------------- 1.4/10.0 MB 180.8 kB/s eta 0:00:48\n",
      "   ----- ---------------------------------- 1.4/10.0 MB 180.8 kB/s eta 0:00:48\n",
      "   ----- ---------------------------------- 1.4/10.0 MB 172.2 kB/s eta 0:00:51\n",
      "   ----- ---------------------------------- 1.4/10.0 MB 173.5 kB/s eta 0:00:50\n",
      "   ----- ---------------------------------- 1.4/10.0 MB 173.1 kB/s eta 0:00:50\n",
      "   ----- ---------------------------------- 1.4/10.0 MB 174.3 kB/s eta 0:00:50\n",
      "   ----- ---------------------------------- 1.4/10.0 MB 174.3 kB/s eta 0:00:50\n",
      "   ----- ---------------------------------- 1.4/10.0 MB 174.3 kB/s eta 0:00:50\n",
      "   ----- ---------------------------------- 1.4/10.0 MB 172.9 kB/s eta 0:00:50\n",
      "   ----- ---------------------------------- 1.5/10.0 MB 173.7 kB/s eta 0:00:50\n",
      "   ----- ---------------------------------- 1.5/10.0 MB 173.7 kB/s eta 0:00:50\n",
      "   ----- ---------------------------------- 1.5/10.0 MB 173.7 kB/s eta 0:00:50\n",
      "   ----- ---------------------------------- 1.5/10.0 MB 174.1 kB/s eta 0:00:49\n",
      "   ------ --------------------------------- 1.5/10.0 MB 176.8 kB/s eta 0:00:48\n",
      "   ------ --------------------------------- 1.5/10.0 MB 176.8 kB/s eta 0:00:48\n",
      "   ------ --------------------------------- 1.5/10.0 MB 176.8 kB/s eta 0:00:48\n",
      "   ------ --------------------------------- 1.5/10.0 MB 176.8 kB/s eta 0:00:48\n",
      "   ------ --------------------------------- 1.5/10.0 MB 176.8 kB/s eta 0:00:48\n",
      "   ------ --------------------------------- 1.5/10.0 MB 174.4 kB/s eta 0:00:49\n",
      "   ------ --------------------------------- 1.5/10.0 MB 174.4 kB/s eta 0:00:49\n",
      "   ------ --------------------------------- 1.5/10.0 MB 174.4 kB/s eta 0:00:49\n",
      "   ------ --------------------------------- 1.6/10.0 MB 173.9 kB/s eta 0:00:49\n",
      "   ------ --------------------------------- 1.6/10.0 MB 173.8 kB/s eta 0:00:49\n",
      "   ------ --------------------------------- 1.6/10.0 MB 173.8 kB/s eta 0:00:49\n",
      "   ------ --------------------------------- 1.6/10.0 MB 173.8 kB/s eta 0:00:49\n",
      "   ------ --------------------------------- 1.6/10.0 MB 173.8 kB/s eta 0:00:49\n",
      "   ------ --------------------------------- 1.6/10.0 MB 173.8 kB/s eta 0:00:49\n",
      "   ------ --------------------------------- 1.6/10.0 MB 171.9 kB/s eta 0:00:49\n",
      "   ------ --------------------------------- 1.6/10.0 MB 171.9 kB/s eta 0:00:49\n",
      "   ------ --------------------------------- 1.6/10.0 MB 171.3 kB/s eta 0:00:50\n",
      "   ------ --------------------------------- 1.6/10.0 MB 172.3 kB/s eta 0:00:49\n",
      "   ------ --------------------------------- 1.6/10.0 MB 173.4 kB/s eta 0:00:49\n",
      "   ------ --------------------------------- 1.6/10.0 MB 173.9 kB/s eta 0:00:48\n",
      "   ------ --------------------------------- 1.7/10.0 MB 177.9 kB/s eta 0:00:47\n",
      "   ------ --------------------------------- 1.7/10.0 MB 180.8 kB/s eta 0:00:46\n",
      "   ------ --------------------------------- 1.7/10.0 MB 180.8 kB/s eta 0:00:46\n",
      "   ------ --------------------------------- 1.7/10.0 MB 180.8 kB/s eta 0:00:46\n",
      "   ------ --------------------------------- 1.7/10.0 MB 180.8 kB/s eta 0:00:46\n",
      "   ------ --------------------------------- 1.7/10.0 MB 180.8 kB/s eta 0:00:46\n",
      "   ------- -------------------------------- 1.8/10.0 MB 178.0 kB/s eta 0:00:47\n",
      "   ------- -------------------------------- 1.8/10.0 MB 177.9 kB/s eta 0:00:47\n",
      "   ------- -------------------------------- 1.8/10.0 MB 177.9 kB/s eta 0:00:47\n",
      "   ------- -------------------------------- 1.8/10.0 MB 178.3 kB/s eta 0:00:47\n",
      "   ------- -------------------------------- 1.8/10.0 MB 178.3 kB/s eta 0:00:47\n",
      "   ------- -------------------------------- 1.8/10.0 MB 178.9 kB/s eta 0:00:46\n",
      "   ------- -------------------------------- 1.8/10.0 MB 178.8 kB/s eta 0:00:46\n",
      "   ------- -------------------------------- 1.8/10.0 MB 178.8 kB/s eta 0:00:46\n",
      "   ------- -------------------------------- 1.8/10.0 MB 178.9 kB/s eta 0:00:46\n",
      "   ------- -------------------------------- 1.8/10.0 MB 178.9 kB/s eta 0:00:46\n",
      "   ------- -------------------------------- 1.8/10.0 MB 178.0 kB/s eta 0:00:46\n",
      "   ------- -------------------------------- 1.8/10.0 MB 178.0 kB/s eta 0:00:46\n",
      "   ------- -------------------------------- 1.8/10.0 MB 178.0 kB/s eta 0:00:46\n",
      "   ------- -------------------------------- 1.9/10.0 MB 177.3 kB/s eta 0:00:46\n",
      "   ------- -------------------------------- 1.9/10.0 MB 181.4 kB/s eta 0:00:45\n",
      "   ------- -------------------------------- 1.9/10.0 MB 181.4 kB/s eta 0:00:45\n",
      "   ------- -------------------------------- 1.9/10.0 MB 181.4 kB/s eta 0:00:45\n",
      "   ------- -------------------------------- 1.9/10.0 MB 181.4 kB/s eta 0:00:45\n",
      "   ------- -------------------------------- 1.9/10.0 MB 181.4 kB/s eta 0:00:45\n",
      "   ------- -------------------------------- 1.9/10.0 MB 181.4 kB/s eta 0:00:45\n",
      "   ------- -------------------------------- 1.9/10.0 MB 181.4 kB/s eta 0:00:45\n",
      "   ------- -------------------------------- 1.9/10.0 MB 176.8 kB/s eta 0:00:46\n",
      "   ------- -------------------------------- 1.9/10.0 MB 176.8 kB/s eta 0:00:46\n",
      "   ------- -------------------------------- 1.9/10.0 MB 177.0 kB/s eta 0:00:46\n",
      "   ------- -------------------------------- 2.0/10.0 MB 178.3 kB/s eta 0:00:46\n",
      "   ------- -------------------------------- 2.0/10.0 MB 178.3 kB/s eta 0:00:46\n",
      "   ------- -------------------------------- 2.0/10.0 MB 177.5 kB/s eta 0:00:46\n",
      "   ------- -------------------------------- 2.0/10.0 MB 177.5 kB/s eta 0:00:46\n",
      "   ------- -------------------------------- 2.0/10.0 MB 178.3 kB/s eta 0:00:45\n",
      "   ------- -------------------------------- 2.0/10.0 MB 178.3 kB/s eta 0:00:45\n",
      "   -------- ------------------------------- 2.0/10.0 MB 177.3 kB/s eta 0:00:46\n",
      "   -------- ------------------------------- 2.0/10.0 MB 177.3 kB/s eta 0:00:46\n",
      "   -------- ------------------------------- 2.0/10.0 MB 177.3 kB/s eta 0:00:46\n",
      "   -------- ------------------------------- 2.0/10.0 MB 176.4 kB/s eta 0:00:46\n",
      "   -------- ------------------------------- 2.0/10.0 MB 176.4 kB/s eta 0:00:46\n",
      "   -------- ------------------------------- 2.1/10.0 MB 180.3 kB/s eta 0:00:44\n",
      "   -------- ------------------------------- 2.1/10.0 MB 180.3 kB/s eta 0:00:44\n",
      "   -------- ------------------------------- 2.1/10.0 MB 180.3 kB/s eta 0:00:44\n",
      "   -------- ------------------------------- 2.1/10.0 MB 180.3 kB/s eta 0:00:44\n",
      "   -------- ------------------------------- 2.1/10.0 MB 180.3 kB/s eta 0:00:44\n",
      "   -------- ------------------------------- 2.1/10.0 MB 180.3 kB/s eta 0:00:44\n",
      "   -------- ------------------------------- 2.1/10.0 MB 180.3 kB/s eta 0:00:44\n",
      "   -------- ------------------------------- 2.1/10.0 MB 180.3 kB/s eta 0:00:44\n",
      "   -------- ------------------------------- 2.1/10.0 MB 180.3 kB/s eta 0:00:44\n",
      "   -------- ------------------------------- 2.1/10.0 MB 180.3 kB/s eta 0:00:44\n",
      "   -------- ------------------------------- 2.1/10.0 MB 180.3 kB/s eta 0:00:44\n",
      "   -------- ------------------------------- 2.1/10.0 MB 180.3 kB/s eta 0:00:44\n",
      "   -------- ------------------------------- 2.1/10.0 MB 173.4 kB/s eta 0:00:46\n",
      "   -------- ------------------------------- 2.1/10.0 MB 174.1 kB/s eta 0:00:46\n",
      "   -------- ------------------------------- 2.1/10.0 MB 174.1 kB/s eta 0:00:46\n",
      "   -------- ------------------------------- 2.1/10.0 MB 174.1 kB/s eta 0:00:46\n",
      "   -------- ------------------------------- 2.1/10.0 MB 174.1 kB/s eta 0:00:46\n",
      "   -------- ------------------------------- 2.2/10.0 MB 173.6 kB/s eta 0:00:46\n",
      "   -------- ------------------------------- 2.2/10.0 MB 173.7 kB/s eta 0:00:46\n",
      "   -------- ------------------------------- 2.2/10.0 MB 176.1 kB/s eta 0:00:45\n",
      "   -------- ------------------------------- 2.2/10.0 MB 178.4 kB/s eta 0:00:44\n",
      "   -------- ------------------------------- 2.2/10.0 MB 178.4 kB/s eta 0:00:44\n",
      "   -------- ------------------------------- 2.2/10.0 MB 178.4 kB/s eta 0:00:44\n",
      "   -------- ------------------------------- 2.2/10.0 MB 178.4 kB/s eta 0:00:44\n",
      "   -------- ------------------------------- 2.2/10.0 MB 178.4 kB/s eta 0:00:44\n",
      "   -------- ------------------------------- 2.2/10.0 MB 178.4 kB/s eta 0:00:44\n",
      "   -------- ------------------------------- 2.2/10.0 MB 178.4 kB/s eta 0:00:44\n",
      "   --------- ------------------------------ 2.3/10.0 MB 173.8 kB/s eta 0:00:45\n",
      "   --------- ------------------------------ 2.3/10.0 MB 173.8 kB/s eta 0:00:45\n",
      "   --------- ------------------------------ 2.3/10.0 MB 174.5 kB/s eta 0:00:45\n",
      "   --------- ------------------------------ 2.3/10.0 MB 175.2 kB/s eta 0:00:44\n",
      "   --------- ------------------------------ 2.3/10.0 MB 175.2 kB/s eta 0:00:44\n",
      "   --------- ------------------------------ 2.3/10.0 MB 174.6 kB/s eta 0:00:45\n",
      "   --------- ------------------------------ 2.3/10.0 MB 175.3 kB/s eta 0:00:44\n",
      "   --------- ------------------------------ 2.3/10.0 MB 175.3 kB/s eta 0:00:44\n",
      "   --------- ------------------------------ 2.3/10.0 MB 175.0 kB/s eta 0:00:44\n",
      "   --------- ------------------------------ 2.3/10.0 MB 175.0 kB/s eta 0:00:44\n",
      "   --------- ------------------------------ 2.4/10.0 MB 174.7 kB/s eta 0:00:44\n",
      "   --------- ------------------------------ 2.4/10.0 MB 174.7 kB/s eta 0:00:44\n",
      "   --------- ------------------------------ 2.4/10.0 MB 175.8 kB/s eta 0:00:44\n",
      "   --------- ------------------------------ 2.4/10.0 MB 177.6 kB/s eta 0:00:43\n",
      "   --------- ------------------------------ 2.4/10.0 MB 177.6 kB/s eta 0:00:43\n",
      "   --------- ------------------------------ 2.4/10.0 MB 177.6 kB/s eta 0:00:43\n",
      "   --------- ------------------------------ 2.4/10.0 MB 177.6 kB/s eta 0:00:43\n",
      "   --------- ------------------------------ 2.4/10.0 MB 177.6 kB/s eta 0:00:43\n",
      "   --------- ------------------------------ 2.4/10.0 MB 177.6 kB/s eta 0:00:43\n",
      "   --------- ------------------------------ 2.4/10.0 MB 175.3 kB/s eta 0:00:44\n",
      "   --------- ------------------------------ 2.4/10.0 MB 175.3 kB/s eta 0:00:44\n",
      "   --------- ------------------------------ 2.4/10.0 MB 174.3 kB/s eta 0:00:44\n",
      "   --------- ------------------------------ 2.5/10.0 MB 174.8 kB/s eta 0:00:44\n",
      "   --------- ------------------------------ 2.5/10.0 MB 175.0 kB/s eta 0:00:44\n",
      "   --------- ------------------------------ 2.5/10.0 MB 175.0 kB/s eta 0:00:44\n",
      "   --------- ------------------------------ 2.5/10.0 MB 175.3 kB/s eta 0:00:43\n",
      "   ---------- ----------------------------- 2.5/10.0 MB 175.4 kB/s eta 0:00:43\n",
      "   ---------- ----------------------------- 2.5/10.0 MB 175.4 kB/s eta 0:00:43\n",
      "   ---------- ----------------------------- 2.5/10.0 MB 177.1 kB/s eta 0:00:43\n",
      "   ---------- ----------------------------- 2.5/10.0 MB 177.1 kB/s eta 0:00:43\n",
      "   ---------- ----------------------------- 2.5/10.0 MB 177.1 kB/s eta 0:00:43\n",
      "   ---------- ----------------------------- 2.5/10.0 MB 176.1 kB/s eta 0:00:43\n",
      "   ---------- ----------------------------- 2.6/10.0 MB 177.3 kB/s eta 0:00:42\n",
      "   ---------- ----------------------------- 2.6/10.0 MB 179.5 kB/s eta 0:00:42\n",
      "   ---------- ----------------------------- 2.6/10.0 MB 179.5 kB/s eta 0:00:42\n",
      "   ---------- ----------------------------- 2.6/10.0 MB 179.5 kB/s eta 0:00:42\n",
      "   ---------- ----------------------------- 2.6/10.0 MB 179.5 kB/s eta 0:00:42\n",
      "   ---------- ----------------------------- 2.6/10.0 MB 179.5 kB/s eta 0:00:42\n",
      "   ---------- ----------------------------- 2.6/10.0 MB 179.5 kB/s eta 0:00:42\n",
      "   ---------- ----------------------------- 2.6/10.0 MB 179.5 kB/s eta 0:00:42\n",
      "   ---------- ----------------------------- 2.6/10.0 MB 176.2 kB/s eta 0:00:42\n",
      "   ---------- ----------------------------- 2.7/10.0 MB 177.0 kB/s eta 0:00:42\n",
      "   ---------- ----------------------------- 2.7/10.0 MB 177.2 kB/s eta 0:00:42\n",
      "   ---------- ----------------------------- 2.7/10.0 MB 177.8 kB/s eta 0:00:42\n",
      "   ---------- ----------------------------- 2.7/10.0 MB 177.8 kB/s eta 0:00:42\n",
      "   ---------- ----------------------------- 2.7/10.0 MB 178.1 kB/s eta 0:00:41\n",
      "   ---------- ----------------------------- 2.7/10.0 MB 178.1 kB/s eta 0:00:41\n",
      "   ---------- ----------------------------- 2.7/10.0 MB 177.1 kB/s eta 0:00:42\n",
      "   ---------- ----------------------------- 2.7/10.0 MB 177.1 kB/s eta 0:00:42\n",
      "   ---------- ----------------------------- 2.7/10.0 MB 177.7 kB/s eta 0:00:41\n",
      "   ---------- ----------------------------- 2.7/10.0 MB 177.8 kB/s eta 0:00:41\n",
      "   ----------- ---------------------------- 2.8/10.0 MB 178.3 kB/s eta 0:00:41\n",
      "   ----------- ---------------------------- 2.8/10.0 MB 180.8 kB/s eta 0:00:40\n",
      "   ----------- ---------------------------- 2.8/10.0 MB 181.1 kB/s eta 0:00:40\n",
      "   ----------- ---------------------------- 2.8/10.0 MB 181.1 kB/s eta 0:00:40\n",
      "   ----------- ---------------------------- 2.8/10.0 MB 181.1 kB/s eta 0:00:40\n",
      "   ----------- ---------------------------- 2.8/10.0 MB 181.1 kB/s eta 0:00:40\n",
      "   ----------- ---------------------------- 2.8/10.0 MB 181.1 kB/s eta 0:00:40\n",
      "   ----------- ---------------------------- 2.8/10.0 MB 181.1 kB/s eta 0:00:40\n",
      "   ----------- ---------------------------- 2.8/10.0 MB 178.7 kB/s eta 0:00:40\n",
      "   ----------- ---------------------------- 2.9/10.0 MB 179.4 kB/s eta 0:00:40\n",
      "   ----------- ---------------------------- 2.9/10.0 MB 179.4 kB/s eta 0:00:40\n",
      "   ----------- ---------------------------- 2.9/10.0 MB 179.0 kB/s eta 0:00:40\n",
      "   ----------- ---------------------------- 2.9/10.0 MB 180.0 kB/s eta 0:00:40\n",
      "   ----------- ---------------------------- 2.9/10.0 MB 179.7 kB/s eta 0:00:40\n",
      "   ----------- ---------------------------- 2.9/10.0 MB 179.7 kB/s eta 0:00:40\n",
      "   ----------- ---------------------------- 2.9/10.0 MB 179.9 kB/s eta 0:00:40\n",
      "   ----------- ---------------------------- 2.9/10.0 MB 180.5 kB/s eta 0:00:40\n",
      "   ----------- ---------------------------- 2.9/10.0 MB 180.5 kB/s eta 0:00:40\n",
      "   ----------- ---------------------------- 2.9/10.0 MB 180.5 kB/s eta 0:00:40\n",
      "   ----------- ---------------------------- 3.0/10.0 MB 179.8 kB/s eta 0:00:40\n",
      "   ----------- ---------------------------- 3.0/10.0 MB 180.2 kB/s eta 0:00:39\n",
      "   ------------ --------------------------- 3.0/10.0 MB 182.9 kB/s eta 0:00:39\n",
      "   ------------ --------------------------- 3.0/10.0 MB 182.9 kB/s eta 0:00:39\n",
      "   ------------ --------------------------- 3.0/10.0 MB 182.9 kB/s eta 0:00:39\n",
      "   ------------ --------------------------- 3.0/10.0 MB 182.9 kB/s eta 0:00:39\n",
      "   ------------ --------------------------- 3.0/10.0 MB 182.9 kB/s eta 0:00:39\n",
      "   ------------ --------------------------- 3.0/10.0 MB 181.1 kB/s eta 0:00:39\n",
      "   ------------ --------------------------- 3.0/10.0 MB 181.1 kB/s eta 0:00:39\n",
      "   ------------ --------------------------- 3.0/10.0 MB 181.1 kB/s eta 0:00:39\n",
      "   ------------ --------------------------- 3.0/10.0 MB 181.1 kB/s eta 0:00:39\n",
      "   ------------ --------------------------- 3.1/10.0 MB 180.0 kB/s eta 0:00:39\n",
      "   ------------ --------------------------- 3.1/10.0 MB 180.1 kB/s eta 0:00:39\n",
      "   ------------ --------------------------- 3.1/10.0 MB 181.0 kB/s eta 0:00:39\n",
      "   ------------ --------------------------- 3.1/10.0 MB 181.0 kB/s eta 0:00:39\n",
      "   ------------ --------------------------- 3.1/10.0 MB 181.2 kB/s eta 0:00:38\n",
      "   ------------ --------------------------- 3.1/10.0 MB 181.3 kB/s eta 0:00:38\n",
      "   ------------ --------------------------- 3.1/10.0 MB 181.3 kB/s eta 0:00:38\n",
      "   ------------ --------------------------- 3.2/10.0 MB 181.7 kB/s eta 0:00:38\n",
      "   ------------ --------------------------- 3.2/10.0 MB 181.7 kB/s eta 0:00:38\n",
      "   ------------ --------------------------- 3.2/10.0 MB 181.7 kB/s eta 0:00:38\n",
      "   ------------ --------------------------- 3.2/10.0 MB 181.5 kB/s eta 0:00:38\n",
      "   ------------ --------------------------- 3.2/10.0 MB 181.5 kB/s eta 0:00:38\n",
      "   ------------ --------------------------- 3.2/10.0 MB 184.0 kB/s eta 0:00:37\n",
      "   ------------ --------------------------- 3.2/10.0 MB 184.0 kB/s eta 0:00:37\n",
      "   ------------ --------------------------- 3.2/10.0 MB 184.0 kB/s eta 0:00:37\n",
      "   ------------ --------------------------- 3.2/10.0 MB 184.0 kB/s eta 0:00:37\n",
      "   ------------ --------------------------- 3.2/10.0 MB 184.0 kB/s eta 0:00:37\n",
      "   ------------ --------------------------- 3.2/10.0 MB 184.0 kB/s eta 0:00:37\n",
      "   ------------ --------------------------- 3.2/10.0 MB 184.0 kB/s eta 0:00:37\n",
      "   ------------- -------------------------- 3.3/10.0 MB 182.2 kB/s eta 0:00:37\n",
      "   ------------- -------------------------- 3.3/10.0 MB 182.2 kB/s eta 0:00:37\n",
      "   ------------- -------------------------- 3.3/10.0 MB 182.2 kB/s eta 0:00:37\n",
      "   ------------- -------------------------- 3.3/10.0 MB 182.2 kB/s eta 0:00:37\n",
      "   ------------- -------------------------- 3.3/10.0 MB 181.3 kB/s eta 0:00:38\n",
      "   ------------- -------------------------- 3.3/10.0 MB 181.7 kB/s eta 0:00:37\n",
      "   ------------- -------------------------- 3.3/10.0 MB 181.7 kB/s eta 0:00:37\n",
      "   ------------- -------------------------- 3.3/10.0 MB 182.0 kB/s eta 0:00:37\n",
      "   ------------- -------------------------- 3.3/10.0 MB 182.0 kB/s eta 0:00:37\n",
      "   ------------- -------------------------- 3.3/10.0 MB 182.0 kB/s eta 0:00:37\n",
      "   ------------- -------------------------- 3.3/10.0 MB 182.0 kB/s eta 0:00:37\n",
      "   ------------- -------------------------- 3.3/10.0 MB 181.7 kB/s eta 0:00:37\n",
      "   ------------- -------------------------- 3.3/10.0 MB 181.7 kB/s eta 0:00:37\n",
      "   ------------- -------------------------- 3.4/10.0 MB 183.2 kB/s eta 0:00:36\n",
      "   ------------- -------------------------- 3.4/10.0 MB 184.7 kB/s eta 0:00:36\n",
      "   ------------- -------------------------- 3.4/10.0 MB 184.7 kB/s eta 0:00:36\n",
      "   ------------- -------------------------- 3.4/10.0 MB 184.7 kB/s eta 0:00:36\n",
      "   ------------- -------------------------- 3.4/10.0 MB 184.7 kB/s eta 0:00:36\n",
      "   ------------- -------------------------- 3.4/10.0 MB 184.7 kB/s eta 0:00:36\n",
      "   ------------- -------------------------- 3.5/10.0 MB 183.4 kB/s eta 0:00:36\n",
      "   ------------- -------------------------- 3.5/10.0 MB 183.4 kB/s eta 0:00:36\n",
      "   ------------- -------------------------- 3.5/10.0 MB 183.4 kB/s eta 0:00:36\n",
      "   ------------- -------------------------- 3.5/10.0 MB 183.4 kB/s eta 0:00:36\n",
      "   ------------- -------------------------- 3.5/10.0 MB 183.0 kB/s eta 0:00:36\n",
      "   ------------- -------------------------- 3.5/10.0 MB 182.9 kB/s eta 0:00:36\n",
      "   -------------- ------------------------- 3.5/10.0 MB 183.6 kB/s eta 0:00:36\n",
      "   -------------- ------------------------- 3.5/10.0 MB 183.5 kB/s eta 0:00:36\n",
      "   -------------- ------------------------- 3.5/10.0 MB 184.0 kB/s eta 0:00:36\n",
      "   -------------- ------------------------- 3.6/10.0 MB 184.6 kB/s eta 0:00:35\n",
      "   -------------- ------------------------- 3.6/10.0 MB 184.6 kB/s eta 0:00:35\n",
      "   -------------- ------------------------- 3.6/10.0 MB 184.2 kB/s eta 0:00:35\n",
      "   -------------- ------------------------- 3.6/10.0 MB 184.2 kB/s eta 0:00:35\n",
      "   -------------- ------------------------- 3.6/10.0 MB 184.5 kB/s eta 0:00:35\n",
      "   -------------- ------------------------- 3.6/10.0 MB 185.4 kB/s eta 0:00:35\n",
      "   -------------- ------------------------- 3.7/10.0 MB 186.8 kB/s eta 0:00:34\n",
      "   -------------- ------------------------- 3.7/10.0 MB 186.8 kB/s eta 0:00:34\n",
      "   -------------- ------------------------- 3.7/10.0 MB 186.8 kB/s eta 0:00:34\n",
      "   -------------- ------------------------- 3.7/10.0 MB 186.8 kB/s eta 0:00:34\n",
      "   -------------- ------------------------- 3.7/10.0 MB 186.8 kB/s eta 0:00:34\n",
      "   -------------- ------------------------- 3.7/10.0 MB 186.8 kB/s eta 0:00:34\n",
      "   -------------- ------------------------- 3.7/10.0 MB 186.8 kB/s eta 0:00:34\n",
      "   -------------- ------------------------- 3.7/10.0 MB 186.8 kB/s eta 0:00:34\n",
      "   -------------- ------------------------- 3.7/10.0 MB 184.2 kB/s eta 0:00:35\n",
      "   -------------- ------------------------- 3.7/10.0 MB 185.3 kB/s eta 0:00:34\n",
      "   -------------- ------------------------- 3.7/10.0 MB 185.9 kB/s eta 0:00:34\n",
      "   -------------- ------------------------- 3.7/10.0 MB 185.9 kB/s eta 0:00:34\n",
      "   --------------- ------------------------ 3.8/10.0 MB 186.5 kB/s eta 0:00:34\n",
      "   --------------- ------------------------ 3.8/10.0 MB 186.6 kB/s eta 0:00:34\n",
      "   --------------- ------------------------ 3.8/10.0 MB 187.0 kB/s eta 0:00:34\n",
      "   --------------- ------------------------ 3.8/10.0 MB 187.6 kB/s eta 0:00:33\n",
      "   --------------- ------------------------ 3.8/10.0 MB 187.6 kB/s eta 0:00:33\n",
      "   --------------- ------------------------ 3.8/10.0 MB 187.1 kB/s eta 0:00:33\n",
      "   --------------- ------------------------ 3.8/10.0 MB 187.5 kB/s eta 0:00:33\n",
      "   --------------- ------------------------ 3.9/10.0 MB 187.7 kB/s eta 0:00:33\n",
      "   --------------- ------------------------ 3.9/10.0 MB 188.3 kB/s eta 0:00:33\n",
      "   --------------- ------------------------ 3.9/10.0 MB 189.5 kB/s eta 0:00:33\n",
      "   --------------- ------------------------ 3.9/10.0 MB 189.5 kB/s eta 0:00:33\n",
      "   --------------- ------------------------ 3.9/10.0 MB 189.5 kB/s eta 0:00:33\n",
      "   --------------- ------------------------ 3.9/10.0 MB 189.5 kB/s eta 0:00:33\n",
      "   --------------- ------------------------ 3.9/10.0 MB 189.5 kB/s eta 0:00:33\n",
      "   --------------- ------------------------ 3.9/10.0 MB 189.5 kB/s eta 0:00:33\n",
      "   --------------- ------------------------ 3.9/10.0 MB 189.5 kB/s eta 0:00:33\n",
      "   --------------- ------------------------ 3.9/10.0 MB 187.1 kB/s eta 0:00:33\n",
      "   --------------- ------------------------ 3.9/10.0 MB 187.1 kB/s eta 0:00:33\n",
      "   --------------- ------------------------ 3.9/10.0 MB 187.1 kB/s eta 0:00:33\n",
      "   --------------- ------------------------ 3.9/10.0 MB 187.1 kB/s eta 0:00:33\n",
      "   --------------- ------------------------ 3.9/10.0 MB 187.1 kB/s eta 0:00:33\n",
      "   --------------- ------------------------ 3.9/10.0 MB 187.1 kB/s eta 0:00:33\n",
      "   --------------- ------------------------ 3.9/10.0 MB 187.1 kB/s eta 0:00:33\n",
      "   --------------- ------------------------ 3.9/10.0 MB 187.1 kB/s eta 0:00:33\n",
      "   --------------- ------------------------ 3.9/10.0 MB 187.1 kB/s eta 0:00:33\n",
      "   --------------- ------------------------ 3.9/10.0 MB 187.1 kB/s eta 0:00:33\n",
      "   --------------- ------------------------ 3.9/10.0 MB 187.1 kB/s eta 0:00:33\n",
      "   --------------- ------------------------ 3.9/10.0 MB 187.1 kB/s eta 0:00:33\n",
      "   --------------- ------------------------ 3.9/10.0 MB 187.1 kB/s eta 0:00:33\n",
      "   --------------- ------------------------ 3.9/10.0 MB 187.1 kB/s eta 0:00:33\n",
      "   --------------- ------------------------ 3.9/10.0 MB 187.1 kB/s eta 0:00:33\n",
      "   --------------- ------------------------ 3.9/10.0 MB 187.1 kB/s eta 0:00:33\n",
      "   --------------- ------------------------ 3.9/10.0 MB 187.1 kB/s eta 0:00:33\n",
      "   --------------- ------------------------ 3.9/10.0 MB 187.1 kB/s eta 0:00:33\n",
      "   --------------- ------------------------ 3.9/10.0 MB 187.1 kB/s eta 0:00:33\n",
      "   --------------- ------------------------ 3.9/10.0 MB 187.1 kB/s eta 0:00:33\n",
      "   --------------- ------------------------ 3.9/10.0 MB 187.1 kB/s eta 0:00:33\n",
      "   --------------- ------------------------ 3.9/10.0 MB 187.1 kB/s eta 0:00:33\n",
      "   --------------- ------------------------ 3.9/10.0 MB 187.1 kB/s eta 0:00:33\n",
      "   --------------- ------------------------ 3.9/10.0 MB 187.1 kB/s eta 0:00:33\n",
      "   --------------- ------------------------ 3.9/10.0 MB 187.1 kB/s eta 0:00:33\n",
      "   --------------- ------------------------ 3.9/10.0 MB 187.1 kB/s eta 0:00:33\n",
      "   --------------- ------------------------ 3.9/10.0 MB 187.1 kB/s eta 0:00:33\n",
      "   --------------- ------------------------ 3.9/10.0 MB 187.1 kB/s eta 0:00:33\n",
      "   --------------- ------------------------ 3.9/10.0 MB 176.1 kB/s eta 0:00:35\n",
      "   ---------------- ----------------------- 4.2/10.0 MB 187.1 kB/s eta 0:00:32\n",
      "   ---------------- ----------------------- 4.2/10.0 MB 187.1 kB/s eta 0:00:32\n",
      "   ---------------- ----------------------- 4.2/10.0 MB 187.1 kB/s eta 0:00:32\n",
      "   ---------------- ----------------------- 4.2/10.0 MB 187.1 kB/s eta 0:00:32\n",
      "   ---------------- ----------------------- 4.2/10.0 MB 187.1 kB/s eta 0:00:32\n",
      "   ---------------- ----------------------- 4.2/10.0 MB 187.1 kB/s eta 0:00:32\n",
      "   ---------------- ----------------------- 4.2/10.0 MB 187.1 kB/s eta 0:00:32\n",
      "   ---------------- ----------------------- 4.2/10.0 MB 187.1 kB/s eta 0:00:32\n",
      "   ---------------- ----------------------- 4.2/10.0 MB 187.1 kB/s eta 0:00:32\n",
      "   ---------------- ----------------------- 4.2/10.0 MB 187.1 kB/s eta 0:00:32\n",
      "   ---------------- ----------------------- 4.2/10.0 MB 187.1 kB/s eta 0:00:32\n",
      "   ---------------- ----------------------- 4.2/10.0 MB 187.1 kB/s eta 0:00:32\n",
      "   ---------------- ----------------------- 4.2/10.0 MB 187.1 kB/s eta 0:00:32\n",
      "   ---------------- ----------------------- 4.2/10.0 MB 187.1 kB/s eta 0:00:32\n",
      "   ---------------- ----------------------- 4.2/10.0 MB 187.1 kB/s eta 0:00:32\n",
      "   ---------------- ----------------------- 4.2/10.0 MB 187.1 kB/s eta 0:00:32\n",
      "   ---------------- ----------------------- 4.2/10.0 MB 182.6 kB/s eta 0:00:32\n",
      "   ----------------- ---------------------- 4.2/10.0 MB 183.2 kB/s eta 0:00:32\n",
      "   ----------------- ---------------------- 4.2/10.0 MB 183.2 kB/s eta 0:00:32\n",
      "   ----------------- ---------------------- 4.2/10.0 MB 183.2 kB/s eta 0:00:32\n",
      "   ----------------- ---------------------- 4.3/10.0 MB 182.4 kB/s eta 0:00:32\n",
      "   ----------------- ---------------------- 4.3/10.0 MB 182.4 kB/s eta 0:00:32\n",
      "   ----------------- ---------------------- 4.3/10.0 MB 182.4 kB/s eta 0:00:32\n",
      "   ----------------- ---------------------- 4.3/10.0 MB 182.4 kB/s eta 0:00:32\n",
      "   ----------------- ---------------------- 4.3/10.0 MB 182.3 kB/s eta 0:00:32\n",
      "   ----------------- ---------------------- 4.3/10.0 MB 182.3 kB/s eta 0:00:32\n",
      "   ----------------- ---------------------- 4.3/10.0 MB 182.3 kB/s eta 0:00:32\n",
      "   ----------------- ---------------------- 4.3/10.0 MB 182.3 kB/s eta 0:00:32\n",
      "   ----------------- ---------------------- 4.3/10.0 MB 181.1 kB/s eta 0:00:32\n",
      "   ----------------- ---------------------- 4.3/10.0 MB 181.1 kB/s eta 0:00:32\n",
      "   ----------------- ---------------------- 4.3/10.0 MB 181.1 kB/s eta 0:00:32\n",
      "   ----------------- ---------------------- 4.3/10.0 MB 181.1 kB/s eta 0:00:32\n",
      "   ----------------- ---------------------- 4.3/10.0 MB 180.8 kB/s eta 0:00:32\n",
      "   ----------------- ---------------------- 4.3/10.0 MB 180.8 kB/s eta 0:00:32\n",
      "   ----------------- ---------------------- 4.3/10.0 MB 180.8 kB/s eta 0:00:32\n",
      "   ----------------- ---------------------- 4.3/10.0 MB 180.8 kB/s eta 0:00:32\n",
      "   ----------------- ---------------------- 4.3/10.0 MB 179.7 kB/s eta 0:00:32\n",
      "   ----------------- ---------------------- 4.3/10.0 MB 179.7 kB/s eta 0:00:32\n",
      "   ----------------- ---------------------- 4.3/10.0 MB 179.7 kB/s eta 0:00:32\n",
      "   ----------------- ---------------------- 4.3/10.0 MB 179.7 kB/s eta 0:00:32\n",
      "   ----------------- ---------------------- 4.4/10.0 MB 179.0 kB/s eta 0:00:32\n",
      "   ----------------- ---------------------- 4.4/10.0 MB 179.0 kB/s eta 0:00:32\n",
      "   ----------------- ---------------------- 4.4/10.0 MB 179.0 kB/s eta 0:00:32\n",
      "   ----------------- ---------------------- 4.4/10.0 MB 179.0 kB/s eta 0:00:32\n",
      "   ----------------- ---------------------- 4.4/10.0 MB 179.0 kB/s eta 0:00:32\n",
      "   ----------------- ---------------------- 4.4/10.0 MB 178.7 kB/s eta 0:00:32\n",
      "   ----------------- ---------------------- 4.4/10.0 MB 178.7 kB/s eta 0:00:32\n",
      "   ----------------- ---------------------- 4.4/10.0 MB 178.7 kB/s eta 0:00:32\n",
      "   ----------------- ---------------------- 4.4/10.0 MB 178.0 kB/s eta 0:00:32\n",
      "   ----------------- ---------------------- 4.4/10.0 MB 178.0 kB/s eta 0:00:32\n",
      "   ----------------- ---------------------- 4.4/10.0 MB 178.1 kB/s eta 0:00:32\n",
      "   ----------------- ---------------------- 4.4/10.0 MB 178.1 kB/s eta 0:00:32\n",
      "   ----------------- ---------------------- 4.4/10.0 MB 178.1 kB/s eta 0:00:32\n",
      "   ----------------- ---------------------- 4.4/10.0 MB 178.1 kB/s eta 0:00:32\n",
      "   ----------------- ---------------------- 4.4/10.0 MB 177.6 kB/s eta 0:00:32\n",
      "   ----------------- ---------------------- 4.5/10.0 MB 178.1 kB/s eta 0:00:32\n",
      "   ----------------- ---------------------- 4.5/10.0 MB 178.1 kB/s eta 0:00:32\n",
      "   ----------------- ---------------------- 4.5/10.0 MB 177.5 kB/s eta 0:00:32\n",
      "   ----------------- ---------------------- 4.5/10.0 MB 178.2 kB/s eta 0:00:31\n",
      "   ----------------- ---------------------- 4.5/10.0 MB 178.2 kB/s eta 0:00:31\n",
      "   ----------------- ---------------------- 4.5/10.0 MB 178.2 kB/s eta 0:00:31\n",
      "   ----------------- ---------------------- 4.5/10.0 MB 178.2 kB/s eta 0:00:31\n",
      "   ------------------ --------------------- 4.5/10.0 MB 177.4 kB/s eta 0:00:31\n",
      "   ------------------ --------------------- 4.5/10.0 MB 177.4 kB/s eta 0:00:31\n",
      "   ------------------ --------------------- 4.5/10.0 MB 177.4 kB/s eta 0:00:31\n",
      "   ------------------ --------------------- 4.5/10.0 MB 177.4 kB/s eta 0:00:31\n",
      "   ------------------ --------------------- 4.5/10.0 MB 176.8 kB/s eta 0:00:31\n",
      "   ------------------ --------------------- 4.5/10.0 MB 176.8 kB/s eta 0:00:31\n",
      "   ------------------ --------------------- 4.5/10.0 MB 176.8 kB/s eta 0:00:31\n",
      "   ------------------ --------------------- 4.5/10.0 MB 176.8 kB/s eta 0:00:31\n",
      "   ------------------ --------------------- 4.5/10.0 MB 176.1 kB/s eta 0:00:31\n",
      "   ------------------ --------------------- 4.5/10.0 MB 176.1 kB/s eta 0:00:31\n",
      "   ------------------ --------------------- 4.5/10.0 MB 176.1 kB/s eta 0:00:31\n",
      "   ------------------ --------------------- 4.5/10.0 MB 176.1 kB/s eta 0:00:31\n",
      "   ------------------ --------------------- 4.6/10.0 MB 175.9 kB/s eta 0:00:31\n",
      "   ------------------ --------------------- 4.6/10.0 MB 176.2 kB/s eta 0:00:31\n",
      "   ------------------ --------------------- 4.6/10.0 MB 176.2 kB/s eta 0:00:31\n",
      "   ------------------ --------------------- 4.6/10.0 MB 176.2 kB/s eta 0:00:31\n",
      "   ------------------ --------------------- 4.6/10.0 MB 175.8 kB/s eta 0:00:31\n",
      "   ------------------ --------------------- 4.6/10.0 MB 176.1 kB/s eta 0:00:31\n",
      "   ------------------ --------------------- 4.6/10.0 MB 176.1 kB/s eta 0:00:31\n",
      "   ------------------ --------------------- 4.6/10.0 MB 176.1 kB/s eta 0:00:31\n",
      "   ------------------ --------------------- 4.6/10.0 MB 176.1 kB/s eta 0:00:31\n",
      "   ------------------ --------------------- 4.6/10.0 MB 176.1 kB/s eta 0:00:31\n",
      "   ------------------ --------------------- 4.6/10.0 MB 174.9 kB/s eta 0:00:31\n",
      "   ------------------ --------------------- 4.7/10.0 MB 175.4 kB/s eta 0:00:31\n",
      "   ------------------ --------------------- 4.7/10.0 MB 175.4 kB/s eta 0:00:31\n",
      "   ------------------ --------------------- 4.7/10.0 MB 175.4 kB/s eta 0:00:31\n",
      "   ------------------ --------------------- 4.7/10.0 MB 175.4 kB/s eta 0:00:31\n",
      "   ------------------ --------------------- 4.7/10.0 MB 175.4 kB/s eta 0:00:31\n",
      "   ------------------ --------------------- 4.7/10.0 MB 175.4 kB/s eta 0:00:31\n",
      "   ------------------ --------------------- 4.7/10.0 MB 175.4 kB/s eta 0:00:31\n",
      "   ------------------ --------------------- 4.7/10.0 MB 175.4 kB/s eta 0:00:31\n",
      "   ------------------ --------------------- 4.7/10.0 MB 173.4 kB/s eta 0:00:31\n",
      "   ------------------ --------------------- 4.7/10.0 MB 173.8 kB/s eta 0:00:31\n",
      "   ------------------ --------------------- 4.7/10.0 MB 174.2 kB/s eta 0:00:31\n",
      "   ------------------ --------------------- 4.7/10.0 MB 174.3 kB/s eta 0:00:31\n",
      "   ------------------ --------------------- 4.7/10.0 MB 174.7 kB/s eta 0:00:31\n",
      "   ------------------ --------------------- 4.7/10.0 MB 174.7 kB/s eta 0:00:31\n",
      "   ------------------- -------------------- 4.8/10.0 MB 175.1 kB/s eta 0:00:30\n",
      "   ------------------- -------------------- 4.8/10.0 MB 175.5 kB/s eta 0:00:30\n",
      "   ------------------- -------------------- 4.8/10.0 MB 175.5 kB/s eta 0:00:30\n",
      "   ------------------- -------------------- 4.8/10.0 MB 175.3 kB/s eta 0:00:30\n",
      "   ------------------- -------------------- 4.8/10.0 MB 175.8 kB/s eta 0:00:30\n",
      "   ------------------- -------------------- 4.8/10.0 MB 175.9 kB/s eta 0:00:30\n",
      "   ------------------- -------------------- 4.9/10.0 MB 176.9 kB/s eta 0:00:29\n",
      "   ------------------- -------------------- 4.9/10.0 MB 176.9 kB/s eta 0:00:29\n",
      "   ------------------- -------------------- 4.9/10.0 MB 177.8 kB/s eta 0:00:29\n",
      "   ------------------- -------------------- 4.9/10.0 MB 177.8 kB/s eta 0:00:29\n",
      "   ------------------- -------------------- 4.9/10.0 MB 177.8 kB/s eta 0:00:29\n",
      "   ------------------- -------------------- 4.9/10.0 MB 177.8 kB/s eta 0:00:29\n",
      "   ------------------- -------------------- 4.9/10.0 MB 177.8 kB/s eta 0:00:29\n",
      "   ------------------- -------------------- 5.0/10.0 MB 177.6 kB/s eta 0:00:29\n",
      "   ------------------- -------------------- 5.0/10.0 MB 177.8 kB/s eta 0:00:29\n",
      "   ------------------- -------------------- 5.0/10.0 MB 177.8 kB/s eta 0:00:29\n",
      "   ------------------- -------------------- 5.0/10.0 MB 177.8 kB/s eta 0:00:29\n",
      "   ------------------- -------------------- 5.0/10.0 MB 177.6 kB/s eta 0:00:29\n",
      "   -------------------- ------------------- 5.0/10.0 MB 177.5 kB/s eta 0:00:29\n",
      "   -------------------- ------------------- 5.0/10.0 MB 178.1 kB/s eta 0:00:28\n",
      "   -------------------- ------------------- 5.0/10.0 MB 178.4 kB/s eta 0:00:28\n",
      "   -------------------- ------------------- 5.0/10.0 MB 178.5 kB/s eta 0:00:28\n",
      "   -------------------- ------------------- 5.1/10.0 MB 179.1 kB/s eta 0:00:28\n",
      "   -------------------- ------------------- 5.1/10.0 MB 180.7 kB/s eta 0:00:27\n",
      "   -------------------- ------------------- 5.1/10.0 MB 180.7 kB/s eta 0:00:27\n",
      "   -------------------- ------------------- 5.1/10.0 MB 180.7 kB/s eta 0:00:27\n",
      "   -------------------- ------------------- 5.1/10.0 MB 180.7 kB/s eta 0:00:27\n",
      "   -------------------- ------------------- 5.1/10.0 MB 180.7 kB/s eta 0:00:27\n",
      "   -------------------- ------------------- 5.1/10.0 MB 180.7 kB/s eta 0:00:27\n",
      "   -------------------- ------------------- 5.2/10.0 MB 181.7 kB/s eta 0:00:27\n",
      "   -------------------- ------------------- 5.2/10.0 MB 182.3 kB/s eta 0:00:27\n",
      "   -------------------- ------------------- 5.2/10.0 MB 182.3 kB/s eta 0:00:27\n",
      "   -------------------- ------------------- 5.2/10.0 MB 182.3 kB/s eta 0:00:27\n",
      "   -------------------- ------------------- 5.2/10.0 MB 182.3 kB/s eta 0:00:27\n",
      "   -------------------- ------------------- 5.2/10.0 MB 182.3 kB/s eta 0:00:27\n",
      "   --------------------- ------------------ 5.3/10.0 MB 181.5 kB/s eta 0:00:27\n",
      "   --------------------- ------------------ 5.3/10.0 MB 182.0 kB/s eta 0:00:26\n",
      "   --------------------- ------------------ 5.3/10.0 MB 182.1 kB/s eta 0:00:26\n",
      "   --------------------- ------------------ 5.3/10.0 MB 182.4 kB/s eta 0:00:26\n",
      "   --------------------- ------------------ 5.3/10.0 MB 182.5 kB/s eta 0:00:26\n",
      "   --------------------- ------------------ 5.3/10.0 MB 182.5 kB/s eta 0:00:26\n",
      "   --------------------- ------------------ 5.3/10.0 MB 182.7 kB/s eta 0:00:26\n",
      "   --------------------- ------------------ 5.4/10.0 MB 183.0 kB/s eta 0:00:26\n",
      "   --------------------- ------------------ 5.4/10.0 MB 183.1 kB/s eta 0:00:26\n",
      "   --------------------- ------------------ 5.4/10.0 MB 183.3 kB/s eta 0:00:26\n",
      "   --------------------- ------------------ 5.4/10.0 MB 183.3 kB/s eta 0:00:26\n",
      "   --------------------- ------------------ 5.4/10.0 MB 183.3 kB/s eta 0:00:26\n",
      "   --------------------- ------------------ 5.5/10.0 MB 184.5 kB/s eta 0:00:25\n",
      "   --------------------- ------------------ 5.5/10.0 MB 184.5 kB/s eta 0:00:25\n",
      "   --------------------- ------------------ 5.5/10.0 MB 184.5 kB/s eta 0:00:25\n",
      "   --------------------- ------------------ 5.5/10.0 MB 184.5 kB/s eta 0:00:25\n",
      "   --------------------- ------------------ 5.5/10.0 MB 184.5 kB/s eta 0:00:25\n",
      "   --------------------- ------------------ 5.5/10.0 MB 184.5 kB/s eta 0:00:25\n",
      "   --------------------- ------------------ 5.5/10.0 MB 184.5 kB/s eta 0:00:25\n",
      "   --------------------- ------------------ 5.5/10.0 MB 184.5 kB/s eta 0:00:25\n",
      "   --------------------- ------------------ 5.5/10.0 MB 182.9 kB/s eta 0:00:25\n",
      "   --------------------- ------------------ 5.5/10.0 MB 182.9 kB/s eta 0:00:25\n",
      "   --------------------- ------------------ 5.5/10.0 MB 182.9 kB/s eta 0:00:25\n",
      "   --------------------- ------------------ 5.5/10.0 MB 182.8 kB/s eta 0:00:25\n",
      "   ---------------------- ----------------- 5.5/10.0 MB 183.1 kB/s eta 0:00:25\n",
      "   ---------------------- ----------------- 5.5/10.0 MB 183.7 kB/s eta 0:00:25\n",
      "   ---------------------- ----------------- 5.5/10.0 MB 183.7 kB/s eta 0:00:25\n",
      "   ---------------------- ----------------- 5.5/10.0 MB 183.5 kB/s eta 0:00:25\n",
      "   ---------------------- ----------------- 5.5/10.0 MB 183.5 kB/s eta 0:00:25\n",
      "   ---------------------- ----------------- 5.6/10.0 MB 183.7 kB/s eta 0:00:25\n",
      "   ---------------------- ----------------- 5.6/10.0 MB 183.7 kB/s eta 0:00:25\n",
      "   ---------------------- ----------------- 5.6/10.0 MB 182.9 kB/s eta 0:00:25\n",
      "   ---------------------- ----------------- 5.6/10.0 MB 183.1 kB/s eta 0:00:25\n",
      "   ---------------------- ----------------- 5.6/10.0 MB 183.3 kB/s eta 0:00:24\n",
      "   ---------------------- ----------------- 5.6/10.0 MB 183.7 kB/s eta 0:00:24\n",
      "   ---------------------- ----------------- 5.6/10.0 MB 183.7 kB/s eta 0:00:24\n",
      "   ---------------------- ----------------- 5.6/10.0 MB 183.7 kB/s eta 0:00:24\n",
      "   ---------------------- ----------------- 5.6/10.0 MB 183.7 kB/s eta 0:00:24\n",
      "   ---------------------- ----------------- 5.6/10.0 MB 183.7 kB/s eta 0:00:24\n",
      "   ---------------------- ----------------- 5.6/10.0 MB 183.7 kB/s eta 0:00:24\n",
      "   ---------------------- ----------------- 5.6/10.0 MB 183.7 kB/s eta 0:00:24\n",
      "   ---------------------- ----------------- 5.6/10.0 MB 183.7 kB/s eta 0:00:24\n",
      "   ---------------------- ----------------- 5.6/10.0 MB 183.7 kB/s eta 0:00:24\n",
      "   ---------------------- ----------------- 5.7/10.0 MB 182.0 kB/s eta 0:00:24\n",
      "   ---------------------- ----------------- 5.7/10.0 MB 183.2 kB/s eta 0:00:24\n",
      "   ---------------------- ----------------- 5.7/10.0 MB 183.3 kB/s eta 0:00:24\n",
      "   ---------------------- ----------------- 5.7/10.0 MB 183.3 kB/s eta 0:00:24\n",
      "   ---------------------- ----------------- 5.7/10.0 MB 183.6 kB/s eta 0:00:24\n",
      "   ---------------------- ----------------- 5.7/10.0 MB 183.7 kB/s eta 0:00:24\n",
      "   ----------------------- ---------------- 5.8/10.0 MB 184.2 kB/s eta 0:00:24\n",
      "   ----------------------- ---------------- 5.8/10.0 MB 184.4 kB/s eta 0:00:23\n",
      "   ----------------------- ---------------- 5.8/10.0 MB 184.4 kB/s eta 0:00:23\n",
      "   ----------------------- ---------------- 5.8/10.0 MB 184.0 kB/s eta 0:00:23\n",
      "   ----------------------- ---------------- 5.8/10.0 MB 184.9 kB/s eta 0:00:23\n",
      "   ----------------------- ---------------- 5.8/10.0 MB 185.4 kB/s eta 0:00:23\n",
      "   ----------------------- ---------------- 5.8/10.0 MB 185.4 kB/s eta 0:00:23\n",
      "   ----------------------- ---------------- 5.8/10.0 MB 185.4 kB/s eta 0:00:23\n",
      "   ----------------------- ---------------- 5.8/10.0 MB 185.4 kB/s eta 0:00:23\n",
      "   ----------------------- ---------------- 5.8/10.0 MB 185.4 kB/s eta 0:00:23\n",
      "   ----------------------- ---------------- 5.8/10.0 MB 185.4 kB/s eta 0:00:23\n",
      "   ----------------------- ---------------- 5.8/10.0 MB 185.4 kB/s eta 0:00:23\n",
      "   ----------------------- ---------------- 5.8/10.0 MB 185.4 kB/s eta 0:00:23\n",
      "   ----------------------- ---------------- 5.8/10.0 MB 185.0 kB/s eta 0:00:23\n",
      "   ----------------------- ---------------- 5.9/10.0 MB 185.4 kB/s eta 0:00:23\n",
      "   ----------------------- ---------------- 5.9/10.0 MB 185.4 kB/s eta 0:00:23\n",
      "   ----------------------- ---------------- 5.9/10.0 MB 185.4 kB/s eta 0:00:23\n",
      "   ----------------------- ---------------- 5.9/10.0 MB 185.4 kB/s eta 0:00:23\n",
      "   ----------------------- ---------------- 5.9/10.0 MB 185.4 kB/s eta 0:00:23\n",
      "   ----------------------- ---------------- 5.9/10.0 MB 185.4 kB/s eta 0:00:23\n",
      "   ----------------------- ---------------- 5.9/10.0 MB 186.0 kB/s eta 0:00:22\n",
      "   ----------------------- ---------------- 5.9/10.0 MB 186.2 kB/s eta 0:00:22\n",
      "   ----------------------- ---------------- 5.9/10.0 MB 186.2 kB/s eta 0:00:22\n",
      "   ----------------------- ---------------- 5.9/10.0 MB 186.1 kB/s eta 0:00:22\n",
      "   ----------------------- ---------------- 6.0/10.0 MB 186.9 kB/s eta 0:00:22\n",
      "   ------------------------ --------------- 6.0/10.0 MB 187.4 kB/s eta 0:00:22\n",
      "   ------------------------ --------------- 6.0/10.0 MB 187.4 kB/s eta 0:00:22\n",
      "   ------------------------ --------------- 6.0/10.0 MB 187.4 kB/s eta 0:00:22\n",
      "   ------------------------ --------------- 6.0/10.0 MB 187.4 kB/s eta 0:00:22\n",
      "   ------------------------ --------------- 6.0/10.0 MB 187.4 kB/s eta 0:00:22\n",
      "   ------------------------ --------------- 6.0/10.0 MB 187.4 kB/s eta 0:00:22\n",
      "   ------------------------ --------------- 6.0/10.0 MB 187.4 kB/s eta 0:00:22\n",
      "   ------------------------ --------------- 6.0/10.0 MB 187.4 kB/s eta 0:00:22\n",
      "   ------------------------ --------------- 6.0/10.0 MB 186.9 kB/s eta 0:00:22\n",
      "   ------------------------ --------------- 6.0/10.0 MB 186.9 kB/s eta 0:00:22\n",
      "   ------------------------ --------------- 6.1/10.0 MB 186.8 kB/s eta 0:00:22\n",
      "   ------------------------ --------------- 6.1/10.0 MB 186.7 kB/s eta 0:00:22\n",
      "   ------------------------ --------------- 6.1/10.0 MB 187.0 kB/s eta 0:00:21\n",
      "   ------------------------ --------------- 6.1/10.0 MB 187.0 kB/s eta 0:00:21\n",
      "   ------------------------ --------------- 6.1/10.0 MB 187.1 kB/s eta 0:00:21\n",
      "   ------------------------ --------------- 6.1/10.0 MB 187.7 kB/s eta 0:00:21\n",
      "   ------------------------ --------------- 6.1/10.0 MB 187.5 kB/s eta 0:00:21\n",
      "   ------------------------ --------------- 6.1/10.0 MB 187.5 kB/s eta 0:00:21\n",
      "   ------------------------ --------------- 6.2/10.0 MB 188.5 kB/s eta 0:00:21\n",
      "   ------------------------ --------------- 6.2/10.0 MB 189.4 kB/s eta 0:00:20\n",
      "   ------------------------- -------------- 6.3/10.0 MB 190.1 kB/s eta 0:00:20\n",
      "   ------------------------- -------------- 6.3/10.0 MB 190.1 kB/s eta 0:00:20\n",
      "   ------------------------- -------------- 6.3/10.0 MB 190.1 kB/s eta 0:00:20\n",
      "   ------------------------- -------------- 6.3/10.0 MB 190.1 kB/s eta 0:00:20\n",
      "   ------------------------- -------------- 6.3/10.0 MB 190.2 kB/s eta 0:00:20\n",
      "   ------------------------- -------------- 6.3/10.0 MB 190.2 kB/s eta 0:00:20\n",
      "   ------------------------- -------------- 6.3/10.0 MB 190.2 kB/s eta 0:00:20\n",
      "   ------------------------- -------------- 6.3/10.0 MB 190.3 kB/s eta 0:00:20\n",
      "   ------------------------- -------------- 6.3/10.0 MB 190.3 kB/s eta 0:00:20\n",
      "   ------------------------- -------------- 6.3/10.0 MB 190.6 kB/s eta 0:00:20\n",
      "   ------------------------- -------------- 6.3/10.0 MB 191.0 kB/s eta 0:00:20\n",
      "   ------------------------- -------------- 6.4/10.0 MB 190.5 kB/s eta 0:00:20\n",
      "   ------------------------- -------------- 6.4/10.0 MB 190.5 kB/s eta 0:00:19\n",
      "   ------------------------- -------------- 6.4/10.0 MB 190.6 kB/s eta 0:00:19\n",
      "   ------------------------- -------------- 6.4/10.0 MB 190.6 kB/s eta 0:00:19\n",
      "   ------------------------- -------------- 6.4/10.0 MB 191.2 kB/s eta 0:00:19\n",
      "   ------------------------- -------------- 6.4/10.0 MB 191.2 kB/s eta 0:00:19\n",
      "   ------------------------- -------------- 6.4/10.0 MB 191.2 kB/s eta 0:00:19\n",
      "   ------------------------- -------------- 6.4/10.0 MB 190.6 kB/s eta 0:00:19\n",
      "   ------------------------- -------------- 6.5/10.0 MB 190.5 kB/s eta 0:00:19\n",
      "   ------------------------- -------------- 6.5/10.0 MB 190.5 kB/s eta 0:00:19\n",
      "   -------------------------- ------------- 6.5/10.0 MB 192.3 kB/s eta 0:00:19\n",
      "   -------------------------- ------------- 6.5/10.0 MB 192.3 kB/s eta 0:00:19\n",
      "   -------------------------- ------------- 6.5/10.0 MB 192.3 kB/s eta 0:00:19\n",
      "   -------------------------- ------------- 6.5/10.0 MB 192.3 kB/s eta 0:00:19\n",
      "   -------------------------- ------------- 6.5/10.0 MB 192.3 kB/s eta 0:00:19\n",
      "   -------------------------- ------------- 6.5/10.0 MB 192.3 kB/s eta 0:00:19\n",
      "   -------------------------- ------------- 6.5/10.0 MB 190.9 kB/s eta 0:00:19\n",
      "   -------------------------- ------------- 6.5/10.0 MB 190.9 kB/s eta 0:00:19\n",
      "   -------------------------- ------------- 6.5/10.0 MB 190.9 kB/s eta 0:00:19\n",
      "   -------------------------- ------------- 6.6/10.0 MB 191.0 kB/s eta 0:00:19\n",
      "   -------------------------- ------------- 6.6/10.0 MB 191.4 kB/s eta 0:00:18\n",
      "   -------------------------- ------------- 6.6/10.0 MB 191.5 kB/s eta 0:00:18\n",
      "   -------------------------- ------------- 6.6/10.0 MB 191.8 kB/s eta 0:00:18\n",
      "   -------------------------- ------------- 6.6/10.0 MB 192.4 kB/s eta 0:00:18\n",
      "   -------------------------- ------------- 6.6/10.0 MB 192.5 kB/s eta 0:00:18\n",
      "   -------------------------- ------------- 6.7/10.0 MB 192.9 kB/s eta 0:00:18\n",
      "   -------------------------- ------------- 6.7/10.0 MB 193.1 kB/s eta 0:00:18\n",
      "   -------------------------- ------------- 6.7/10.0 MB 193.2 kB/s eta 0:00:18\n",
      "   -------------------------- ------------- 6.7/10.0 MB 193.2 kB/s eta 0:00:18\n",
      "   -------------------------- ------------- 6.7/10.0 MB 192.2 kB/s eta 0:00:18\n",
      "   --------------------------- ------------ 6.8/10.0 MB 193.5 kB/s eta 0:00:17\n",
      "   --------------------------- ------------ 6.8/10.0 MB 193.5 kB/s eta 0:00:17\n",
      "   --------------------------- ------------ 6.8/10.0 MB 193.5 kB/s eta 0:00:17\n",
      "   --------------------------- ------------ 6.8/10.0 MB 193.5 kB/s eta 0:00:17\n",
      "   --------------------------- ------------ 6.8/10.0 MB 194.5 kB/s eta 0:00:17\n",
      "   --------------------------- ------------ 6.8/10.0 MB 194.5 kB/s eta 0:00:17\n",
      "   --------------------------- ------------ 6.8/10.0 MB 194.6 kB/s eta 0:00:17\n",
      "   --------------------------- ------------ 6.8/10.0 MB 194.6 kB/s eta 0:00:17\n",
      "   --------------------------- ------------ 6.8/10.0 MB 194.2 kB/s eta 0:00:17\n",
      "   --------------------------- ------------ 6.8/10.0 MB 194.5 kB/s eta 0:00:17\n",
      "   --------------------------- ------------ 6.8/10.0 MB 194.8 kB/s eta 0:00:17\n",
      "   --------------------------- ------------ 6.8/10.0 MB 194.8 kB/s eta 0:00:17\n",
      "   --------------------------- ------------ 6.9/10.0 MB 194.4 kB/s eta 0:00:17\n",
      "   --------------------------- ------------ 6.9/10.0 MB 194.9 kB/s eta 0:00:17\n",
      "   --------------------------- ------------ 6.9/10.0 MB 194.9 kB/s eta 0:00:16\n",
      "   --------------------------- ------------ 6.9/10.0 MB 194.9 kB/s eta 0:00:16\n",
      "   --------------------------- ------------ 6.9/10.0 MB 195.0 kB/s eta 0:00:16\n",
      "   --------------------------- ------------ 6.9/10.0 MB 195.3 kB/s eta 0:00:16\n",
      "   --------------------------- ------------ 6.9/10.0 MB 195.3 kB/s eta 0:00:16\n",
      "   --------------------------- ------------ 7.0/10.0 MB 195.6 kB/s eta 0:00:16\n",
      "   --------------------------- ------------ 7.0/10.0 MB 195.5 kB/s eta 0:00:16\n",
      "   --------------------------- ------------ 7.0/10.0 MB 195.5 kB/s eta 0:00:16\n",
      "   --------------------------- ------------ 7.0/10.0 MB 195.5 kB/s eta 0:00:16\n",
      "   --------------------------- ------------ 7.0/10.0 MB 195.5 kB/s eta 0:00:16\n",
      "   --------------------------- ------------ 7.0/10.0 MB 195.5 kB/s eta 0:00:16\n",
      "   --------------------------- ------------ 7.0/10.0 MB 195.5 kB/s eta 0:00:16\n",
      "   --------------------------- ------------ 7.0/10.0 MB 195.5 kB/s eta 0:00:16\n",
      "   ---------------------------- ----------- 7.0/10.0 MB 193.8 kB/s eta 0:00:16\n",
      "   ---------------------------- ----------- 7.0/10.0 MB 193.8 kB/s eta 0:00:16\n",
      "   ---------------------------- ----------- 7.0/10.0 MB 193.2 kB/s eta 0:00:16\n",
      "   ---------------------------- ----------- 7.0/10.0 MB 193.2 kB/s eta 0:00:16\n",
      "   ---------------------------- ----------- 7.0/10.0 MB 193.2 kB/s eta 0:00:16\n",
      "   ---------------------------- ----------- 7.0/10.0 MB 193.2 kB/s eta 0:00:16\n",
      "   ---------------------------- ----------- 7.0/10.0 MB 193.2 kB/s eta 0:00:16\n",
      "   ---------------------------- ----------- 7.0/10.0 MB 193.2 kB/s eta 0:00:16\n",
      "   ---------------------------- ----------- 7.0/10.0 MB 192.0 kB/s eta 0:00:16\n",
      "   ---------------------------- ----------- 7.0/10.0 MB 192.0 kB/s eta 0:00:16\n",
      "   ---------------------------- ----------- 7.0/10.0 MB 192.0 kB/s eta 0:00:16\n",
      "   ---------------------------- ----------- 7.1/10.0 MB 192.4 kB/s eta 0:00:16\n",
      "   ---------------------------- ----------- 7.1/10.0 MB 192.4 kB/s eta 0:00:16\n",
      "   ---------------------------- ----------- 7.1/10.0 MB 193.2 kB/s eta 0:00:15\n",
      "   ---------------------------- ----------- 7.1/10.0 MB 193.2 kB/s eta 0:00:15\n",
      "   ---------------------------- ----------- 7.1/10.0 MB 193.2 kB/s eta 0:00:15\n",
      "   ---------------------------- ----------- 7.1/10.0 MB 193.2 kB/s eta 0:00:15\n",
      "   ---------------------------- ----------- 7.1/10.0 MB 193.2 kB/s eta 0:00:15\n",
      "   ---------------------------- ----------- 7.1/10.0 MB 193.2 kB/s eta 0:00:15\n",
      "   ---------------------------- ----------- 7.1/10.0 MB 193.2 kB/s eta 0:00:15\n",
      "   ---------------------------- ----------- 7.1/10.0 MB 193.2 kB/s eta 0:00:15\n",
      "   ---------------------------- ----------- 7.1/10.0 MB 193.2 kB/s eta 0:00:15\n",
      "   ---------------------------- ----------- 7.1/10.0 MB 193.2 kB/s eta 0:00:15\n",
      "   ---------------------------- ----------- 7.2/10.0 MB 192.6 kB/s eta 0:00:15\n",
      "   ---------------------------- ----------- 7.2/10.0 MB 192.6 kB/s eta 0:00:15\n",
      "   ---------------------------- ----------- 7.2/10.0 MB 192.4 kB/s eta 0:00:15\n",
      "   ---------------------------- ----------- 7.2/10.0 MB 192.6 kB/s eta 0:00:15\n",
      "   ---------------------------- ----------- 7.2/10.0 MB 192.7 kB/s eta 0:00:15\n",
      "   ---------------------------- ----------- 7.2/10.0 MB 193.3 kB/s eta 0:00:15\n",
      "   ----------------------------- ---------- 7.3/10.0 MB 193.9 kB/s eta 0:00:15\n",
      "   ----------------------------- ---------- 7.3/10.0 MB 194.0 kB/s eta 0:00:15\n",
      "   ----------------------------- ---------- 7.3/10.0 MB 194.6 kB/s eta 0:00:14\n",
      "   ----------------------------- ---------- 7.3/10.0 MB 194.9 kB/s eta 0:00:14\n",
      "   ----------------------------- ---------- 7.3/10.0 MB 194.9 kB/s eta 0:00:14\n",
      "   ----------------------------- ---------- 7.3/10.0 MB 195.1 kB/s eta 0:00:14\n",
      "   ----------------------------- ---------- 7.4/10.0 MB 195.7 kB/s eta 0:00:14\n",
      "   ----------------------------- ---------- 7.4/10.0 MB 195.7 kB/s eta 0:00:14\n",
      "   ----------------------------- ---------- 7.4/10.0 MB 195.7 kB/s eta 0:00:14\n",
      "   ----------------------------- ---------- 7.4/10.0 MB 195.7 kB/s eta 0:00:14\n",
      "   ----------------------------- ---------- 7.4/10.0 MB 195.7 kB/s eta 0:00:14\n",
      "   ----------------------------- ---------- 7.4/10.0 MB 195.7 kB/s eta 0:00:14\n",
      "   ----------------------------- ---------- 7.4/10.0 MB 195.7 kB/s eta 0:00:14\n",
      "   ----------------------------- ---------- 7.4/10.0 MB 195.7 kB/s eta 0:00:14\n",
      "   ----------------------------- ---------- 7.4/10.0 MB 195.7 kB/s eta 0:00:14\n",
      "   ----------------------------- ---------- 7.4/10.0 MB 193.9 kB/s eta 0:00:14\n",
      "   ----------------------------- ---------- 7.4/10.0 MB 193.9 kB/s eta 0:00:14\n",
      "   ----------------------------- ---------- 7.4/10.0 MB 193.9 kB/s eta 0:00:14\n",
      "   ----------------------------- ---------- 7.4/10.0 MB 193.9 kB/s eta 0:00:14\n",
      "   ----------------------------- ---------- 7.4/10.0 MB 193.9 kB/s eta 0:00:14\n",
      "   ----------------------------- ---------- 7.4/10.0 MB 193.9 kB/s eta 0:00:14\n",
      "   ----------------------------- ---------- 7.4/10.0 MB 192.4 kB/s eta 0:00:14\n",
      "   ----------------------------- ---------- 7.4/10.0 MB 192.4 kB/s eta 0:00:14\n",
      "   ----------------------------- ---------- 7.4/10.0 MB 192.2 kB/s eta 0:00:14\n",
      "   ----------------------------- ---------- 7.4/10.0 MB 191.5 kB/s eta 0:00:14\n",
      "   ----------------------------- ---------- 7.5/10.0 MB 192.6 kB/s eta 0:00:14\n",
      "   ----------------------------- ---------- 7.5/10.0 MB 192.6 kB/s eta 0:00:14\n",
      "   ----------------------------- ---------- 7.5/10.0 MB 192.6 kB/s eta 0:00:14\n",
      "   ----------------------------- ---------- 7.5/10.0 MB 192.6 kB/s eta 0:00:14\n",
      "   ----------------------------- ---------- 7.5/10.0 MB 192.6 kB/s eta 0:00:14\n",
      "   ----------------------------- ---------- 7.5/10.0 MB 192.6 kB/s eta 0:00:14\n",
      "   ----------------------------- ---------- 7.5/10.0 MB 192.6 kB/s eta 0:00:14\n",
      "   ----------------------------- ---------- 7.5/10.0 MB 192.6 kB/s eta 0:00:14\n",
      "   ----------------------------- ---------- 7.5/10.0 MB 192.6 kB/s eta 0:00:14\n",
      "   ------------------------------ --------- 7.5/10.0 MB 190.4 kB/s eta 0:00:14\n",
      "   ------------------------------ --------- 7.5/10.0 MB 190.1 kB/s eta 0:00:14\n",
      "   ------------------------------ --------- 7.5/10.0 MB 190.1 kB/s eta 0:00:14\n",
      "   ------------------------------ --------- 7.5/10.0 MB 190.1 kB/s eta 0:00:14\n",
      "   ------------------------------ --------- 7.5/10.0 MB 190.1 kB/s eta 0:00:14\n",
      "   ------------------------------ --------- 7.5/10.0 MB 190.1 kB/s eta 0:00:14\n",
      "   ------------------------------ --------- 7.5/10.0 MB 189.6 kB/s eta 0:00:14\n",
      "   ------------------------------ --------- 7.5/10.0 MB 189.6 kB/s eta 0:00:14\n",
      "   ------------------------------ --------- 7.6/10.0 MB 190.5 kB/s eta 0:00:13\n",
      "   ------------------------------ --------- 7.6/10.0 MB 190.5 kB/s eta 0:00:13\n",
      "   ------------------------------ --------- 7.6/10.0 MB 190.5 kB/s eta 0:00:13\n",
      "   ------------------------------ --------- 7.6/10.0 MB 189.4 kB/s eta 0:00:13\n",
      "   ------------------------------ --------- 7.6/10.0 MB 190.6 kB/s eta 0:00:13\n",
      "   ------------------------------ --------- 7.6/10.0 MB 190.9 kB/s eta 0:00:13\n",
      "   ------------------------------ --------- 7.6/10.0 MB 190.9 kB/s eta 0:00:13\n",
      "   ------------------------------ --------- 7.6/10.0 MB 190.9 kB/s eta 0:00:13\n",
      "   ------------------------------ --------- 7.6/10.0 MB 190.9 kB/s eta 0:00:13\n",
      "   ------------------------------ --------- 7.6/10.0 MB 190.9 kB/s eta 0:00:13\n",
      "   ------------------------------ --------- 7.6/10.0 MB 190.9 kB/s eta 0:00:13\n",
      "   ------------------------------ --------- 7.6/10.0 MB 190.9 kB/s eta 0:00:13\n",
      "   ------------------------------ --------- 7.6/10.0 MB 190.9 kB/s eta 0:00:13\n",
      "   ------------------------------ --------- 7.6/10.0 MB 188.8 kB/s eta 0:00:13\n",
      "   ------------------------------ --------- 7.6/10.0 MB 188.8 kB/s eta 0:00:13\n",
      "   ------------------------------ --------- 7.6/10.0 MB 188.8 kB/s eta 0:00:13\n",
      "   ------------------------------ --------- 7.6/10.0 MB 188.8 kB/s eta 0:00:13\n",
      "   ------------------------------ --------- 7.6/10.0 MB 188.8 kB/s eta 0:00:13\n",
      "   ------------------------------ --------- 7.6/10.0 MB 188.8 kB/s eta 0:00:13\n",
      "   ------------------------------ --------- 7.6/10.0 MB 188.8 kB/s eta 0:00:13\n",
      "   ------------------------------ --------- 7.6/10.0 MB 188.4 kB/s eta 0:00:13\n",
      "   ------------------------------ --------- 7.6/10.0 MB 188.4 kB/s eta 0:00:13\n",
      "   ------------------------------ --------- 7.6/10.0 MB 188.4 kB/s eta 0:00:13\n",
      "   ------------------------------ --------- 7.7/10.0 MB 188.2 kB/s eta 0:00:13\n",
      "   ------------------------------ --------- 7.7/10.0 MB 187.7 kB/s eta 0:00:13\n",
      "   ------------------------------ --------- 7.7/10.0 MB 187.7 kB/s eta 0:00:13\n",
      "   ------------------------------ --------- 7.7/10.0 MB 190.1 kB/s eta 0:00:13\n",
      "   ------------------------------ --------- 7.7/10.0 MB 190.1 kB/s eta 0:00:13\n",
      "   ------------------------------ --------- 7.7/10.0 MB 190.1 kB/s eta 0:00:13\n",
      "   ------------------------------ --------- 7.7/10.0 MB 190.1 kB/s eta 0:00:13\n",
      "   ------------------------------ --------- 7.7/10.0 MB 190.1 kB/s eta 0:00:13\n",
      "   ------------------------------ --------- 7.7/10.0 MB 190.1 kB/s eta 0:00:13\n",
      "   ------------------------------ --------- 7.7/10.0 MB 190.1 kB/s eta 0:00:13\n",
      "   ------------------------------ --------- 7.7/10.0 MB 190.1 kB/s eta 0:00:13\n",
      "   ------------------------------ --------- 7.7/10.0 MB 188.4 kB/s eta 0:00:13\n",
      "   ------------------------------ --------- 7.7/10.0 MB 188.4 kB/s eta 0:00:13\n",
      "   ------------------------------ --------- 7.7/10.0 MB 188.4 kB/s eta 0:00:13\n",
      "   ------------------------------ --------- 7.7/10.0 MB 188.1 kB/s eta 0:00:12\n",
      "   ------------------------------ --------- 7.7/10.0 MB 188.1 kB/s eta 0:00:12\n",
      "   ------------------------------- -------- 7.8/10.0 MB 187.6 kB/s eta 0:00:12\n",
      "   ------------------------------- -------- 7.8/10.0 MB 187.6 kB/s eta 0:00:12\n",
      "   ------------------------------- -------- 7.8/10.0 MB 187.6 kB/s eta 0:00:12\n",
      "   ------------------------------- -------- 7.8/10.0 MB 187.6 kB/s eta 0:00:12\n",
      "   ------------------------------- -------- 7.8/10.0 MB 187.4 kB/s eta 0:00:12\n",
      "   ------------------------------- -------- 7.8/10.0 MB 187.4 kB/s eta 0:00:12\n",
      "   ------------------------------- -------- 7.8/10.0 MB 185.7 kB/s eta 0:00:12\n",
      "   ------------------------------- -------- 7.8/10.0 MB 188.0 kB/s eta 0:00:12\n",
      "   ------------------------------- -------- 7.8/10.0 MB 188.1 kB/s eta 0:00:12\n",
      "   ------------------------------- -------- 7.8/10.0 MB 188.1 kB/s eta 0:00:12\n",
      "   ------------------------------- -------- 7.8/10.0 MB 188.1 kB/s eta 0:00:12\n",
      "   ------------------------------- -------- 7.8/10.0 MB 188.1 kB/s eta 0:00:12\n",
      "   ------------------------------- -------- 7.8/10.0 MB 188.1 kB/s eta 0:00:12\n",
      "   ------------------------------- -------- 7.9/10.0 MB 187.1 kB/s eta 0:00:12\n",
      "   ------------------------------- -------- 7.9/10.0 MB 187.1 kB/s eta 0:00:12\n",
      "   ------------------------------- -------- 7.9/10.0 MB 186.9 kB/s eta 0:00:12\n",
      "   ------------------------------- -------- 7.9/10.0 MB 186.9 kB/s eta 0:00:12\n",
      "   ------------------------------- -------- 7.9/10.0 MB 186.7 kB/s eta 0:00:12\n",
      "   ------------------------------- -------- 7.9/10.0 MB 186.7 kB/s eta 0:00:12\n",
      "   ------------------------------- -------- 7.9/10.0 MB 186.7 kB/s eta 0:00:12\n",
      "   ------------------------------- -------- 7.9/10.0 MB 186.7 kB/s eta 0:00:12\n",
      "   ------------------------------- -------- 7.9/10.0 MB 186.3 kB/s eta 0:00:12\n",
      "   ------------------------------- -------- 7.9/10.0 MB 186.3 kB/s eta 0:00:12\n",
      "   ------------------------------- -------- 7.9/10.0 MB 187.0 kB/s eta 0:00:11\n",
      "   ------------------------------- -------- 7.9/10.0 MB 187.0 kB/s eta 0:00:11\n",
      "   ------------------------------- -------- 7.9/10.0 MB 186.7 kB/s eta 0:00:11\n",
      "   ------------------------------- -------- 8.0/10.0 MB 186.8 kB/s eta 0:00:11\n",
      "   -------------------------------- ------- 8.0/10.0 MB 187.7 kB/s eta 0:00:11\n",
      "   -------------------------------- ------- 8.0/10.0 MB 187.7 kB/s eta 0:00:11\n",
      "   -------------------------------- ------- 8.0/10.0 MB 187.7 kB/s eta 0:00:11\n",
      "   -------------------------------- ------- 8.0/10.0 MB 187.7 kB/s eta 0:00:11\n",
      "   -------------------------------- ------- 8.0/10.0 MB 187.7 kB/s eta 0:00:11\n",
      "   -------------------------------- ------- 8.0/10.0 MB 187.3 kB/s eta 0:00:11\n",
      "   -------------------------------- ------- 8.0/10.0 MB 187.3 kB/s eta 0:00:11\n",
      "   -------------------------------- ------- 8.0/10.0 MB 187.3 kB/s eta 0:00:11\n",
      "   -------------------------------- ------- 8.0/10.0 MB 187.3 kB/s eta 0:00:11\n",
      "   -------------------------------- ------- 8.0/10.0 MB 187.3 kB/s eta 0:00:11\n",
      "   -------------------------------- ------- 8.0/10.0 MB 187.3 kB/s eta 0:00:11\n",
      "   -------------------------------- ------- 8.0/10.0 MB 186.0 kB/s eta 0:00:11\n",
      "   -------------------------------- ------- 8.1/10.0 MB 186.5 kB/s eta 0:00:11\n",
      "   -------------------------------- ------- 8.1/10.0 MB 186.5 kB/s eta 0:00:11\n",
      "   -------------------------------- ------- 8.1/10.0 MB 186.5 kB/s eta 0:00:11\n",
      "   -------------------------------- ------- 8.1/10.0 MB 186.0 kB/s eta 0:00:11\n",
      "   -------------------------------- ------- 8.1/10.0 MB 186.0 kB/s eta 0:00:11\n",
      "   -------------------------------- ------- 8.1/10.0 MB 185.4 kB/s eta 0:00:11\n",
      "   -------------------------------- ------- 8.1/10.0 MB 185.4 kB/s eta 0:00:11\n",
      "   -------------------------------- ------- 8.1/10.0 MB 185.4 kB/s eta 0:00:11\n",
      "   -------------------------------- ------- 8.1/10.0 MB 184.8 kB/s eta 0:00:11\n",
      "   -------------------------------- ------- 8.2/10.0 MB 185.3 kB/s eta 0:00:10\n",
      "   -------------------------------- ------- 8.2/10.0 MB 186.2 kB/s eta 0:00:10\n",
      "   -------------------------------- ------- 8.2/10.0 MB 186.2 kB/s eta 0:00:10\n",
      "   -------------------------------- ------- 8.2/10.0 MB 186.2 kB/s eta 0:00:10\n",
      "   -------------------------------- ------- 8.2/10.0 MB 186.2 kB/s eta 0:00:10\n",
      "   -------------------------------- ------- 8.2/10.0 MB 186.2 kB/s eta 0:00:10\n",
      "   -------------------------------- ------- 8.2/10.0 MB 186.2 kB/s eta 0:00:10\n",
      "   -------------------------------- ------- 8.2/10.0 MB 186.2 kB/s eta 0:00:10\n",
      "   -------------------------------- ------- 8.2/10.0 MB 186.2 kB/s eta 0:00:10\n",
      "   -------------------------------- ------- 8.2/10.0 MB 186.2 kB/s eta 0:00:10\n",
      "   -------------------------------- ------- 8.2/10.0 MB 186.2 kB/s eta 0:00:10\n",
      "   -------------------------------- ------- 8.2/10.0 MB 186.2 kB/s eta 0:00:10\n",
      "   -------------------------------- ------- 8.2/10.0 MB 186.2 kB/s eta 0:00:10\n",
      "   -------------------------------- ------- 8.2/10.0 MB 182.7 kB/s eta 0:00:10\n",
      "   -------------------------------- ------- 8.2/10.0 MB 183.0 kB/s eta 0:00:10\n",
      "   -------------------------------- ------- 8.2/10.0 MB 183.0 kB/s eta 0:00:10\n",
      "   -------------------------------- ------- 8.2/10.0 MB 183.0 kB/s eta 0:00:10\n",
      "   -------------------------------- ------- 8.2/10.0 MB 182.5 kB/s eta 0:00:10\n",
      "   -------------------------------- ------- 8.2/10.0 MB 182.5 kB/s eta 0:00:10\n",
      "   -------------------------------- ------- 8.2/10.0 MB 182.6 kB/s eta 0:00:10\n",
      "   --------------------------------- ------ 8.3/10.0 MB 183.0 kB/s eta 0:00:10\n",
      "   --------------------------------- ------ 8.3/10.0 MB 181.7 kB/s eta 0:00:10\n",
      "   --------------------------------- ------ 8.3/10.0 MB 181.7 kB/s eta 0:00:10\n",
      "   --------------------------------- ------ 8.3/10.0 MB 181.7 kB/s eta 0:00:10\n",
      "   --------------------------------- ------ 8.3/10.0 MB 181.7 kB/s eta 0:00:10\n",
      "   --------------------------------- ------ 8.3/10.0 MB 181.7 kB/s eta 0:00:10\n",
      "   --------------------------------- ------ 8.3/10.0 MB 181.7 kB/s eta 0:00:10\n",
      "   --------------------------------- ------ 8.3/10.0 MB 182.1 kB/s eta 0:00:10\n",
      "   --------------------------------- ------ 8.3/10.0 MB 182.1 kB/s eta 0:00:10\n",
      "   --------------------------------- ------ 8.3/10.0 MB 182.1 kB/s eta 0:00:10\n",
      "   --------------------------------- ------ 8.3/10.0 MB 181.4 kB/s eta 0:00:10\n",
      "   --------------------------------- ------ 8.3/10.0 MB 181.2 kB/s eta 0:00:10\n",
      "   --------------------------------- ------ 8.3/10.0 MB 181.2 kB/s eta 0:00:10\n",
      "   --------------------------------- ------ 8.3/10.0 MB 181.2 kB/s eta 0:00:10\n",
      "   --------------------------------- ------ 8.3/10.0 MB 181.2 kB/s eta 0:00:10\n",
      "   --------------------------------- ------ 8.3/10.0 MB 181.2 kB/s eta 0:00:10\n",
      "   --------------------------------- ------ 8.3/10.0 MB 181.2 kB/s eta 0:00:10\n",
      "   --------------------------------- ------ 8.4/10.0 MB 180.5 kB/s eta 0:00:10\n",
      "   --------------------------------- ------ 8.4/10.0 MB 180.5 kB/s eta 0:00:10\n",
      "   --------------------------------- ------ 8.4/10.0 MB 180.6 kB/s eta 0:00:09\n",
      "   --------------------------------- ------ 8.4/10.0 MB 180.6 kB/s eta 0:00:09\n",
      "   --------------------------------- ------ 8.4/10.0 MB 180.2 kB/s eta 0:00:09\n",
      "   --------------------------------- ------ 8.4/10.0 MB 180.9 kB/s eta 0:00:09\n",
      "   --------------------------------- ------ 8.4/10.0 MB 180.9 kB/s eta 0:00:09\n",
      "   --------------------------------- ------ 8.4/10.0 MB 180.9 kB/s eta 0:00:09\n",
      "   --------------------------------- ------ 8.4/10.0 MB 180.9 kB/s eta 0:00:09\n",
      "   --------------------------------- ------ 8.4/10.0 MB 180.9 kB/s eta 0:00:09\n",
      "   --------------------------------- ------ 8.4/10.0 MB 180.9 kB/s eta 0:00:09\n",
      "   --------------------------------- ------ 8.4/10.0 MB 180.9 kB/s eta 0:00:09\n",
      "   --------------------------------- ------ 8.4/10.0 MB 180.9 kB/s eta 0:00:09\n",
      "   --------------------------------- ------ 8.4/10.0 MB 180.9 kB/s eta 0:00:09\n",
      "   --------------------------------- ------ 8.4/10.0 MB 180.9 kB/s eta 0:00:09\n",
      "   --------------------------------- ------ 8.4/10.0 MB 180.9 kB/s eta 0:00:09\n",
      "   --------------------------------- ------ 8.5/10.0 MB 178.8 kB/s eta 0:00:09\n",
      "   --------------------------------- ------ 8.5/10.0 MB 178.8 kB/s eta 0:00:09\n",
      "   --------------------------------- ------ 8.5/10.0 MB 178.4 kB/s eta 0:00:09\n",
      "   --------------------------------- ------ 8.5/10.0 MB 178.4 kB/s eta 0:00:09\n",
      "   --------------------------------- ------ 8.5/10.0 MB 177.8 kB/s eta 0:00:09\n",
      "   ---------------------------------- ----- 8.5/10.0 MB 178.7 kB/s eta 0:00:09\n",
      "   ---------------------------------- ----- 8.5/10.0 MB 178.7 kB/s eta 0:00:09\n",
      "   ---------------------------------- ----- 8.5/10.0 MB 178.7 kB/s eta 0:00:09\n",
      "   ---------------------------------- ----- 8.6/10.0 MB 178.3 kB/s eta 0:00:08\n",
      "   ---------------------------------- ----- 8.6/10.0 MB 179.9 kB/s eta 0:00:08\n",
      "   ---------------------------------- ----- 8.6/10.0 MB 179.9 kB/s eta 0:00:08\n",
      "   ---------------------------------- ----- 8.6/10.0 MB 179.9 kB/s eta 0:00:08\n",
      "   ---------------------------------- ----- 8.6/10.0 MB 179.9 kB/s eta 0:00:08\n",
      "   ---------------------------------- ----- 8.6/10.0 MB 179.9 kB/s eta 0:00:08\n",
      "   ---------------------------------- ----- 8.6/10.0 MB 179.9 kB/s eta 0:00:08\n",
      "   ---------------------------------- ----- 8.6/10.0 MB 179.9 kB/s eta 0:00:08\n",
      "   ---------------------------------- ----- 8.6/10.0 MB 179.9 kB/s eta 0:00:08\n",
      "   ---------------------------------- ----- 8.6/10.0 MB 177.7 kB/s eta 0:00:08\n",
      "   ---------------------------------- ----- 8.6/10.0 MB 177.7 kB/s eta 0:00:08\n",
      "   ---------------------------------- ----- 8.6/10.0 MB 177.7 kB/s eta 0:00:08\n",
      "   ---------------------------------- ----- 8.6/10.0 MB 177.7 kB/s eta 0:00:08\n",
      "   ---------------------------------- ----- 8.6/10.0 MB 177.7 kB/s eta 0:00:08\n",
      "   ---------------------------------- ----- 8.6/10.0 MB 176.7 kB/s eta 0:00:08\n",
      "   ---------------------------------- ----- 8.6/10.0 MB 176.7 kB/s eta 0:00:08\n",
      "   ---------------------------------- ----- 8.6/10.0 MB 177.3 kB/s eta 0:00:08\n",
      "   ---------------------------------- ----- 8.6/10.0 MB 177.3 kB/s eta 0:00:08\n",
      "   ---------------------------------- ----- 8.6/10.0 MB 177.3 kB/s eta 0:00:08\n",
      "   ---------------------------------- ----- 8.7/10.0 MB 176.8 kB/s eta 0:00:08\n",
      "   ---------------------------------- ----- 8.7/10.0 MB 176.8 kB/s eta 0:00:08\n",
      "   ---------------------------------- ----- 8.7/10.0 MB 177.0 kB/s eta 0:00:08\n",
      "   ---------------------------------- ----- 8.7/10.0 MB 177.5 kB/s eta 0:00:08\n",
      "   ---------------------------------- ----- 8.7/10.0 MB 177.5 kB/s eta 0:00:08\n",
      "   ---------------------------------- ----- 8.7/10.0 MB 177.5 kB/s eta 0:00:08\n",
      "   ---------------------------------- ----- 8.7/10.0 MB 177.5 kB/s eta 0:00:08\n",
      "   ---------------------------------- ----- 8.7/10.0 MB 177.5 kB/s eta 0:00:08\n",
      "   ---------------------------------- ----- 8.7/10.0 MB 177.5 kB/s eta 0:00:08\n",
      "   ---------------------------------- ----- 8.7/10.0 MB 175.8 kB/s eta 0:00:08\n",
      "   ---------------------------------- ----- 8.7/10.0 MB 175.8 kB/s eta 0:00:08\n",
      "   ---------------------------------- ----- 8.7/10.0 MB 175.8 kB/s eta 0:00:08\n",
      "   ----------------------------------- ---- 8.8/10.0 MB 175.9 kB/s eta 0:00:07\n",
      "   ----------------------------------- ---- 8.8/10.0 MB 176.1 kB/s eta 0:00:07\n",
      "   ----------------------------------- ---- 8.8/10.0 MB 176.1 kB/s eta 0:00:07\n",
      "   ----------------------------------- ---- 8.8/10.0 MB 176.1 kB/s eta 0:00:07\n",
      "   ----------------------------------- ---- 8.8/10.0 MB 176.1 kB/s eta 0:00:07\n",
      "   ----------------------------------- ---- 8.8/10.0 MB 175.2 kB/s eta 0:00:07\n",
      "   ----------------------------------- ---- 8.8/10.0 MB 175.0 kB/s eta 0:00:07\n",
      "   ----------------------------------- ---- 8.8/10.0 MB 175.5 kB/s eta 0:00:07\n",
      "   ----------------------------------- ---- 8.8/10.0 MB 175.5 kB/s eta 0:00:07\n",
      "   ----------------------------------- ---- 8.8/10.0 MB 175.5 kB/s eta 0:00:07\n",
      "   ----------------------------------- ---- 8.8/10.0 MB 174.8 kB/s eta 0:00:07\n",
      "   ----------------------------------- ---- 8.9/10.0 MB 176.6 kB/s eta 0:00:07\n",
      "   ----------------------------------- ---- 8.9/10.0 MB 176.6 kB/s eta 0:00:07\n",
      "   ----------------------------------- ---- 8.9/10.0 MB 176.6 kB/s eta 0:00:07\n",
      "   ----------------------------------- ---- 8.9/10.0 MB 176.6 kB/s eta 0:00:07\n",
      "   ----------------------------------- ---- 8.9/10.0 MB 176.1 kB/s eta 0:00:07\n",
      "   ----------------------------------- ---- 8.9/10.0 MB 176.1 kB/s eta 0:00:07\n",
      "   ----------------------------------- ---- 8.9/10.0 MB 176.1 kB/s eta 0:00:07\n",
      "   ----------------------------------- ---- 8.9/10.0 MB 176.1 kB/s eta 0:00:07\n",
      "   ----------------------------------- ---- 8.9/10.0 MB 176.1 kB/s eta 0:00:07\n",
      "   ----------------------------------- ---- 8.9/10.0 MB 176.1 kB/s eta 0:00:07\n",
      "   ----------------------------------- ---- 8.9/10.0 MB 173.2 kB/s eta 0:00:07\n",
      "   ----------------------------------- ---- 8.9/10.0 MB 173.2 kB/s eta 0:00:07\n",
      "   ----------------------------------- ---- 9.0/10.0 MB 173.6 kB/s eta 0:00:06\n",
      "   ----------------------------------- ---- 9.0/10.0 MB 173.6 kB/s eta 0:00:06\n",
      "   ----------------------------------- ---- 9.0/10.0 MB 173.6 kB/s eta 0:00:06\n",
      "   ----------------------------------- ---- 9.0/10.0 MB 173.6 kB/s eta 0:00:06\n",
      "   ------------------------------------ --- 9.0/10.0 MB 173.3 kB/s eta 0:00:06\n",
      "   ------------------------------------ --- 9.0/10.0 MB 173.3 kB/s eta 0:00:06\n",
      "   ------------------------------------ --- 9.0/10.0 MB 173.6 kB/s eta 0:00:06\n",
      "   ------------------------------------ --- 9.1/10.0 MB 173.5 kB/s eta 0:00:06\n",
      "   ------------------------------------ --- 9.1/10.0 MB 173.5 kB/s eta 0:00:06\n",
      "   ------------------------------------ --- 9.1/10.0 MB 173.5 kB/s eta 0:00:06\n",
      "   ------------------------------------ --- 9.1/10.0 MB 175.3 kB/s eta 0:00:06\n",
      "   ------------------------------------ --- 9.1/10.0 MB 175.3 kB/s eta 0:00:06\n",
      "   ------------------------------------ --- 9.1/10.0 MB 175.3 kB/s eta 0:00:06\n",
      "   ------------------------------------ --- 9.1/10.0 MB 175.3 kB/s eta 0:00:06\n",
      "   ------------------------------------ --- 9.1/10.0 MB 175.3 kB/s eta 0:00:06\n",
      "   ------------------------------------ --- 9.1/10.0 MB 175.3 kB/s eta 0:00:06\n",
      "   ------------------------------------ --- 9.1/10.0 MB 174.2 kB/s eta 0:00:05\n",
      "   ------------------------------------ --- 9.1/10.0 MB 174.2 kB/s eta 0:00:05\n",
      "   ------------------------------------ --- 9.1/10.0 MB 174.2 kB/s eta 0:00:05\n",
      "   ------------------------------------ --- 9.1/10.0 MB 174.2 kB/s eta 0:00:05\n",
      "   ------------------------------------ --- 9.1/10.0 MB 180.9 kB/s eta 0:00:05\n",
      "   ------------------------------------ --- 9.2/10.0 MB 181.3 kB/s eta 0:00:05\n",
      "   ------------------------------------ --- 9.2/10.0 MB 181.3 kB/s eta 0:00:05\n",
      "   ------------------------------------ --- 9.2/10.0 MB 181.3 kB/s eta 0:00:05\n",
      "   ------------------------------------ --- 9.2/10.0 MB 181.3 kB/s eta 0:00:05\n",
      "   ------------------------------------ --- 9.2/10.0 MB 181.3 kB/s eta 0:00:05\n",
      "   ------------------------------------ --- 9.2/10.0 MB 181.3 kB/s eta 0:00:05\n",
      "   ------------------------------------ --- 9.2/10.0 MB 179.8 kB/s eta 0:00:05\n",
      "   ------------------------------------ --- 9.2/10.0 MB 180.8 kB/s eta 0:00:05\n",
      "   ------------------------------------ --- 9.2/10.0 MB 181.0 kB/s eta 0:00:05\n",
      "   ------------------------------------ --- 9.2/10.0 MB 181.0 kB/s eta 0:00:05\n",
      "   ------------------------------------ --- 9.2/10.0 MB 181.0 kB/s eta 0:00:05\n",
      "   ------------------------------------ --- 9.2/10.0 MB 181.0 kB/s eta 0:00:05\n",
      "   ------------------------------------ --- 9.2/10.0 MB 181.0 kB/s eta 0:00:05\n",
      "   ------------------------------------- -- 9.3/10.0 MB 180.5 kB/s eta 0:00:05\n",
      "   ------------------------------------- -- 9.3/10.0 MB 180.5 kB/s eta 0:00:05\n",
      "   ------------------------------------- -- 9.3/10.0 MB 180.7 kB/s eta 0:00:04\n",
      "   ------------------------------------- -- 9.3/10.0 MB 181.1 kB/s eta 0:00:04\n",
      "   ------------------------------------- -- 9.3/10.0 MB 181.3 kB/s eta 0:00:04\n",
      "   ------------------------------------- -- 9.3/10.0 MB 181.7 kB/s eta 0:00:04\n",
      "   ------------------------------------- -- 9.4/10.0 MB 182.2 kB/s eta 0:00:04\n",
      "   ------------------------------------- -- 9.4/10.0 MB 182.7 kB/s eta 0:00:04\n",
      "   ------------------------------------- -- 9.4/10.0 MB 183.5 kB/s eta 0:00:04\n",
      "   ------------------------------------- -- 9.4/10.0 MB 184.0 kB/s eta 0:00:03\n",
      "   ------------------------------------- -- 9.5/10.0 MB 184.5 kB/s eta 0:00:03\n",
      "   -------------------------------------- - 9.5/10.0 MB 182.0 kB/s eta 0:00:03\n",
      "   -------------------------------------- - 9.5/10.0 MB 182.4 kB/s eta 0:00:03\n",
      "   -------------------------------------- - 9.6/10.0 MB 183.2 kB/s eta 0:00:03\n",
      "   -------------------------------------- - 9.6/10.0 MB 183.6 kB/s eta 0:00:03\n",
      "   -------------------------------------- - 9.6/10.0 MB 184.6 kB/s eta 0:00:03\n",
      "   -------------------------------------- - 9.6/10.0 MB 184.7 kB/s eta 0:00:02\n",
      "   -------------------------------------- - 9.7/10.0 MB 185.7 kB/s eta 0:00:02\n",
      "   -------------------------------------- - 9.7/10.0 MB 185.9 kB/s eta 0:00:02\n",
      "   -------------------------------------- - 9.7/10.0 MB 187.1 kB/s eta 0:00:02\n",
      "   ---------------------------------------  9.8/10.0 MB 187.8 kB/s eta 0:00:02\n",
      "   ---------------------------------------  9.8/10.0 MB 188.3 kB/s eta 0:00:02\n",
      "   ---------------------------------------  9.8/10.0 MB 189.0 kB/s eta 0:00:01\n",
      "   ---------------------------------------  9.8/10.0 MB 189.6 kB/s eta 0:00:01\n",
      "   ---------------------------------------  9.9/10.0 MB 190.1 kB/s eta 0:00:01\n",
      "   ---------------------------------------  9.9/10.0 MB 190.3 kB/s eta 0:00:01\n",
      "   ---------------------------------------  9.9/10.0 MB 191.3 kB/s eta 0:00:01\n",
      "   ---------------------------------------  9.9/10.0 MB 191.6 kB/s eta 0:00:01\n",
      "   ---------------------------------------  10.0/10.0 MB 191.5 kB/s eta 0:00:01\n",
      "   ---------------------------------------  10.0/10.0 MB 191.4 kB/s eta 0:00:01\n",
      "   ---------------------------------------  10.0/10.0 MB 191.5 kB/s eta 0:00:01\n",
      "   ---------------------------------------  10.0/10.0 MB 191.5 kB/s eta 0:00:01\n",
      "   ---------------------------------------- 10.0/10.0 MB 191.9 kB/s eta 0:00:00\n",
      "Downloading webcolors-24.11.1-py3-none-any.whl (14 kB)\n",
      "Downloading fqdn-1.5.1-py3-none-any.whl (9.1 kB)\n",
      "Downloading isoduration-20.11.0-py3-none-any.whl (11 kB)\n",
      "Downloading uri_template-1.3.0-py3-none-any.whl (11 kB)\n",
      "Installing collected packages: webcolors, uri-template, fqdn, isoduration, nbclassic\n",
      "Successfully installed fqdn-1.5.1 isoduration-20.11.0 nbclassic-1.1.0 uri-template-1.3.0 webcolors-24.11.1\n",
      "Note: you may need to restart the kernel to use updated packages.\n"
     ]
    }
   ],
   "source": [
    "pip install nbclassic"
   ]
  },
  {
   "cell_type": "markdown",
   "id": "e673912d",
   "metadata": {},
   "source": [
    "# LIST"
   ]
  },
  {
   "cell_type": "code",
   "execution_count": 2,
   "id": "c9415e5d",
   "metadata": {},
   "outputs": [],
   "source": [
    "my_list = ['ruth', 'donald', 'emeka', 'feranmi', 'dominion', 12, 'sandra']"
   ]
  },
  {
   "cell_type": "code",
   "execution_count": 3,
   "id": "27a30e46",
   "metadata": {},
   "outputs": [
    {
     "data": {
      "text/plain": [
       "['ruth', 'donald', 'emeka', 'feranmi', 'dominion', 12, 'sandra']"
      ]
     },
     "execution_count": 3,
     "metadata": {},
     "output_type": "execute_result"
    }
   ],
   "source": [
    "my_list"
   ]
  },
  {
   "cell_type": "code",
   "execution_count": 4,
   "id": "a5c794dc",
   "metadata": {},
   "outputs": [
    {
     "data": {
      "text/plain": [
       "list"
      ]
     },
     "execution_count": 4,
     "metadata": {},
     "output_type": "execute_result"
    }
   ],
   "source": [
    "type(my_list)"
   ]
  },
  {
   "cell_type": "code",
   "execution_count": 5,
   "id": "baca31c8",
   "metadata": {},
   "outputs": [
    {
     "data": {
      "text/plain": [
       "7"
      ]
     },
     "execution_count": 5,
     "metadata": {},
     "output_type": "execute_result"
    }
   ],
   "source": [
    "len(my_list)"
   ]
  },
  {
   "cell_type": "code",
   "execution_count": 6,
   "id": "beb8b05f",
   "metadata": {},
   "outputs": [
    {
     "data": {
      "text/plain": [
       "'sandra'"
      ]
     },
     "execution_count": 6,
     "metadata": {},
     "output_type": "execute_result"
    }
   ],
   "source": [
    "my_list[(len(my_list)-1)]"
   ]
  },
  {
   "cell_type": "code",
   "execution_count": 7,
   "id": "1ef334bc",
   "metadata": {},
   "outputs": [],
   "source": [
    "my_list_2 = [['orange','banana'], ['car','House'], ['laptop','phone'], 'sandra', 50]"
   ]
  },
  {
   "cell_type": "code",
   "execution_count": 8,
   "id": "88366966",
   "metadata": {},
   "outputs": [],
   "source": [
    "my_list_3 = my_list_2[0]"
   ]
  },
  {
   "cell_type": "code",
   "execution_count": 9,
   "id": "575cf3c4",
   "metadata": {},
   "outputs": [
    {
     "data": {
      "text/plain": [
       "list"
      ]
     },
     "execution_count": 9,
     "metadata": {},
     "output_type": "execute_result"
    }
   ],
   "source": [
    "type(my_list_3)"
   ]
  },
  {
   "cell_type": "code",
   "execution_count": 10,
   "id": "3e99c52d",
   "metadata": {},
   "outputs": [
    {
     "data": {
      "text/plain": [
       "[['orange', 'banana']]"
      ]
     },
     "execution_count": 10,
     "metadata": {},
     "output_type": "execute_result"
    }
   ],
   "source": [
    "my_list_2[0:1]"
   ]
  },
  {
   "cell_type": "code",
   "execution_count": 11,
   "id": "d8911d7f",
   "metadata": {},
   "outputs": [
    {
     "data": {
      "text/plain": [
       "['ruth', 'donald', 'emeka', 'feranmi', 'dominion', 12, 'sandra']"
      ]
     },
     "execution_count": 11,
     "metadata": {},
     "output_type": "execute_result"
    }
   ],
   "source": [
    "my_list"
   ]
  },
  {
   "cell_type": "code",
   "execution_count": 12,
   "id": "a9a7378f",
   "metadata": {},
   "outputs": [
    {
     "data": {
      "text/plain": [
       "['ruth', 'donald', 'ebuka', 'feranmi', 'dominion', 12, 'sandra']"
      ]
     },
     "execution_count": 12,
     "metadata": {},
     "output_type": "execute_result"
    }
   ],
   "source": [
    "my_list[2] = \"ebuka\"\n",
    "my_list"
   ]
  },
  {
   "cell_type": "code",
   "execution_count": 16,
   "id": "c7f8572f",
   "metadata": {},
   "outputs": [
    {
     "data": {
      "text/plain": [
       "['ruth', 'donald', 'EBUKA', 'FERANMI', 'dominion', 12, 'sandra']"
      ]
     },
     "execution_count": 16,
     "metadata": {},
     "output_type": "execute_result"
    }
   ],
   "source": [
    "my_list[2:4] = 'EBUKA', 'FERANMI'\n",
    "my_list"
   ]
  },
  {
   "cell_type": "code",
   "execution_count": 18,
   "id": "82c2845c",
   "metadata": {},
   "outputs": [
    {
     "data": {
      "text/plain": [
       "['ruth', 'donald', 'Oladele', 'EBUKA', 'FERANMI', 'dominion', 12, 'sandra']"
      ]
     },
     "execution_count": 18,
     "metadata": {},
     "output_type": "execute_result"
    }
   ],
   "source": [
    "my_list.insert(2, 'Oladele')\n",
    "my_list"
   ]
  },
  {
   "cell_type": "code",
   "execution_count": 20,
   "id": "07dd27f0",
   "metadata": {},
   "outputs": [
    {
     "data": {
      "text/plain": [
       "['ruth',\n",
       " 'donald',\n",
       " 'Oladele',\n",
       " 'EBUKA',\n",
       " 'FERANMI',\n",
       " 'dominion',\n",
       " 12,\n",
       " 'sandra',\n",
       " 'Ayodeji',\n",
       " 'Ayodeji']"
      ]
     },
     "execution_count": 20,
     "metadata": {},
     "output_type": "execute_result"
    }
   ],
   "source": [
    "my_list.append('Ayodeji')\n",
    "my_list"
   ]
  },
  {
   "cell_type": "code",
   "execution_count": 25,
   "id": "aababb34",
   "metadata": {},
   "outputs": [
    {
     "name": "stdout",
     "output_type": "stream",
     "text": [
      "True\n"
     ]
    }
   ],
   "source": [
    "thisset = {\"apple\", \"banana\", \"cherry\"}\n",
    "print(\"banana\" in thisset)"
   ]
  },
  {
   "cell_type": "code",
   "execution_count": null,
   "id": "88193e4f",
   "metadata": {},
   "outputs": [],
   "source": []
  },
  {
   "cell_type": "code",
   "execution_count": 14,
   "id": "df8de96e",
   "metadata": {},
   "outputs": [
    {
     "name": "stdout",
     "output_type": "stream",
     "text": [
      "['orange', 'kiwi', 'melon', 'mango']\n"
     ]
    }
   ],
   "source": [
    "thislist = [\"apple\", \"banana\", \"cherry\", \"orange\", \"kiwi\", \"melon\", \"mango\"]\n",
    "print(thislist[-4:])"
   ]
  },
  {
   "cell_type": "code",
   "execution_count": 23,
   "id": "21786652",
   "metadata": {},
   "outputs": [
    {
     "name": "stdout",
     "output_type": "stream",
     "text": [
      "['apple', 'banana', 'cherry', 'mango', 'pineapple', 'papaya']\n"
     ]
    }
   ],
   "source": [
    "thislist = [\"apple\", \"banana\", \"cherry\"]\n",
    "tropical = [\"mango\", \"pineapple\", \"papaya\"]\n",
    "thislist.extend(tropical)\n",
    "print(thislist)"
   ]
  },
  {
   "cell_type": "code",
   "execution_count": 2,
   "id": "8557b648",
   "metadata": {
    "scrolled": true
   },
   "outputs": [
    {
     "name": "stdout",
     "output_type": "stream",
     "text": [
      "MY SHOPPING LIST\n",
      "Total number of items: 5\n",
      "Shopping items; \n",
      "Apples: $3.5\n",
      "Banana: $3.0\n",
      "Cherry: $4.5\n",
      "Mango: $2.5\n",
      "Pineapple: $5.0\n"
     ]
    }
   ],
   "source": [
    "Shopping_list = [('Apples', 3.5), ('Banana', 3.0), ('Cherry', 4.5), ('Mango', 2.5), ('Pineapple', 5.0)]\n",
    "\n",
    "total_items = len(Shopping_list)\n",
    "print(f\"MY SHOPPING LIST\")\n",
    "print(f\"Total number of items: {total_items}\")\n",
    "\n",
    "print(\"Shopping items; \")\n",
    "\n",
    "for item, price in Shopping_list:\n",
    "  print(f\"{item}: ${price}\")"
   ]
  },
  {
   "cell_type": "code",
   "execution_count": 4,
   "id": "17dd6359",
   "metadata": {},
   "outputs": [],
   "source": [
    "import pandas as pd"
   ]
  },
  {
   "cell_type": "code",
   "execution_count": 7,
   "id": "b9717464",
   "metadata": {},
   "outputs": [],
   "source": [
    "my_data = pd.DataFrame(Shopping_list, columns = (\"Items\", \"Price\"))"
   ]
  },
  {
   "cell_type": "code",
   "execution_count": 8,
   "id": "0d940b11",
   "metadata": {},
   "outputs": [
    {
     "data": {
      "text/html": [
       "<div>\n",
       "<style scoped>\n",
       "    .dataframe tbody tr th:only-of-type {\n",
       "        vertical-align: middle;\n",
       "    }\n",
       "\n",
       "    .dataframe tbody tr th {\n",
       "        vertical-align: top;\n",
       "    }\n",
       "\n",
       "    .dataframe thead th {\n",
       "        text-align: right;\n",
       "    }\n",
       "</style>\n",
       "<table border=\"1\" class=\"dataframe\">\n",
       "  <thead>\n",
       "    <tr style=\"text-align: right;\">\n",
       "      <th></th>\n",
       "      <th>Items</th>\n",
       "      <th>Price</th>\n",
       "    </tr>\n",
       "  </thead>\n",
       "  <tbody>\n",
       "    <tr>\n",
       "      <th>0</th>\n",
       "      <td>Apples</td>\n",
       "      <td>3.5</td>\n",
       "    </tr>\n",
       "    <tr>\n",
       "      <th>1</th>\n",
       "      <td>Banana</td>\n",
       "      <td>3.0</td>\n",
       "    </tr>\n",
       "    <tr>\n",
       "      <th>2</th>\n",
       "      <td>Cherry</td>\n",
       "      <td>4.5</td>\n",
       "    </tr>\n",
       "    <tr>\n",
       "      <th>3</th>\n",
       "      <td>Mango</td>\n",
       "      <td>2.5</td>\n",
       "    </tr>\n",
       "    <tr>\n",
       "      <th>4</th>\n",
       "      <td>Pineapple</td>\n",
       "      <td>5.0</td>\n",
       "    </tr>\n",
       "  </tbody>\n",
       "</table>\n",
       "</div>"
      ],
      "text/plain": [
       "       Items  Price\n",
       "0     Apples    3.5\n",
       "1     Banana    3.0\n",
       "2     Cherry    4.5\n",
       "3      Mango    2.5\n",
       "4  Pineapple    5.0"
      ]
     },
     "execution_count": 8,
     "metadata": {},
     "output_type": "execute_result"
    }
   ],
   "source": [
    "my_data"
   ]
  },
  {
   "cell_type": "code",
   "execution_count": 20,
   "id": "e600eaa9",
   "metadata": {},
   "outputs": [
    {
     "data": {
      "text/html": [
       "<div>\n",
       "<style scoped>\n",
       "    .dataframe tbody tr th:only-of-type {\n",
       "        vertical-align: middle;\n",
       "    }\n",
       "\n",
       "    .dataframe tbody tr th {\n",
       "        vertical-align: top;\n",
       "    }\n",
       "\n",
       "    .dataframe thead th {\n",
       "        text-align: right;\n",
       "    }\n",
       "</style>\n",
       "<table border=\"1\" class=\"dataframe\">\n",
       "  <thead>\n",
       "    <tr style=\"text-align: right;\">\n",
       "      <th></th>\n",
       "      <th>count</th>\n",
       "      <th>unique</th>\n",
       "      <th>top</th>\n",
       "      <th>freq</th>\n",
       "      <th>mean</th>\n",
       "      <th>std</th>\n",
       "      <th>min</th>\n",
       "      <th>25%</th>\n",
       "      <th>50%</th>\n",
       "      <th>75%</th>\n",
       "      <th>max</th>\n",
       "    </tr>\n",
       "  </thead>\n",
       "  <tbody>\n",
       "    <tr>\n",
       "      <th>Items</th>\n",
       "      <td>5</td>\n",
       "      <td>5</td>\n",
       "      <td>Apples</td>\n",
       "      <td>1</td>\n",
       "      <td>NaN</td>\n",
       "      <td>NaN</td>\n",
       "      <td>NaN</td>\n",
       "      <td>NaN</td>\n",
       "      <td>NaN</td>\n",
       "      <td>NaN</td>\n",
       "      <td>NaN</td>\n",
       "    </tr>\n",
       "    <tr>\n",
       "      <th>Price</th>\n",
       "      <td>5.0</td>\n",
       "      <td>NaN</td>\n",
       "      <td>NaN</td>\n",
       "      <td>NaN</td>\n",
       "      <td>3.7</td>\n",
       "      <td>1.036822</td>\n",
       "      <td>2.5</td>\n",
       "      <td>3.0</td>\n",
       "      <td>3.5</td>\n",
       "      <td>4.5</td>\n",
       "      <td>5.0</td>\n",
       "    </tr>\n",
       "  </tbody>\n",
       "</table>\n",
       "</div>"
      ],
      "text/plain": [
       "      count unique     top freq mean       std  min  25%  50%  75%  max\n",
       "Items     5      5  Apples    1  NaN       NaN  NaN  NaN  NaN  NaN  NaN\n",
       "Price   5.0    NaN     NaN  NaN  3.7  1.036822  2.5  3.0  3.5  4.5  5.0"
      ]
     },
     "execution_count": 20,
     "metadata": {},
     "output_type": "execute_result"
    }
   ],
   "source": [
    "my_data.describe(include = \"all\").T"
   ]
  },
  {
   "cell_type": "code",
   "execution_count": 18,
   "id": "829981ef",
   "metadata": {},
   "outputs": [
    {
     "data": {
      "text/plain": [
       "18.5"
      ]
     },
     "execution_count": 18,
     "metadata": {},
     "output_type": "execute_result"
    }
   ],
   "source": [
    "my_data[\"Price\"].sum()"
   ]
  },
  {
   "cell_type": "code",
   "execution_count": 19,
   "id": "d5a6507e",
   "metadata": {},
   "outputs": [
    {
     "data": {
      "text/plain": [
       "5.0"
      ]
     },
     "execution_count": 19,
     "metadata": {},
     "output_type": "execute_result"
    }
   ],
   "source": [
    "my_data[\"Price\"].max()"
   ]
  },
  {
   "cell_type": "code",
   "execution_count": 26,
   "id": "04309f60",
   "metadata": {},
   "outputs": [],
   "source": [
    "thisdict = {\n",
    "  \"brand\": \"Ford\",\n",
    "  \"model\": \"Mustang\",\n",
    "  \"year\": 1964,\n",
    "  \"year\": 2020\n",
    "}"
   ]
  },
  {
   "cell_type": "code",
   "execution_count": 27,
   "id": "04549922",
   "metadata": {},
   "outputs": [
    {
     "data": {
      "text/plain": [
       "{'brand': 'Ford', 'model': 'Mustang', 'year': 2020}"
      ]
     },
     "execution_count": 27,
     "metadata": {},
     "output_type": "execute_result"
    }
   ],
   "source": [
    "thisdict"
   ]
  },
  {
   "cell_type": "code",
   "execution_count": 28,
   "id": "407402f2",
   "metadata": {},
   "outputs": [
    {
     "data": {
      "text/plain": [
       "dict_values(['Ford', 'Mustang', 2020])"
      ]
     },
     "execution_count": 28,
     "metadata": {},
     "output_type": "execute_result"
    }
   ],
   "source": [
    "thisdict.values()"
   ]
  },
  {
   "cell_type": "code",
   "execution_count": 29,
   "id": "9659a15a",
   "metadata": {},
   "outputs": [
    {
     "data": {
      "text/plain": [
       "2020"
      ]
     },
     "execution_count": 29,
     "metadata": {},
     "output_type": "execute_result"
    }
   ],
   "source": [
    "thisdict['year']"
   ]
  },
  {
   "cell_type": "code",
   "execution_count": 30,
   "id": "04193ab3",
   "metadata": {},
   "outputs": [
    {
     "data": {
      "text/plain": [
       "{'brand': 'Ford', 'model': 'Mustang', 'year': 2030}"
      ]
     },
     "execution_count": 30,
     "metadata": {},
     "output_type": "execute_result"
    }
   ],
   "source": [
    "thisdict['year'] = 2030\n",
    "thisdict"
   ]
  },
  {
   "cell_type": "code",
   "execution_count": 32,
   "id": "02790824",
   "metadata": {},
   "outputs": [],
   "source": [
    "thisdict.update({'color' : 'red'})"
   ]
  },
  {
   "cell_type": "code",
   "execution_count": 33,
   "id": "57d390e9",
   "metadata": {},
   "outputs": [
    {
     "data": {
      "text/plain": [
       "{'brand': 'Ford', 'model': 'Mustang', 'year': 2030, 'color': 'red'}"
      ]
     },
     "execution_count": 33,
     "metadata": {},
     "output_type": "execute_result"
    }
   ],
   "source": [
    "thisdict"
   ]
  },
  {
   "cell_type": "code",
   "execution_count": null,
   "id": "14d11630",
   "metadata": {},
   "outputs": [],
   "source": [
    " "
   ]
  }
 ],
 "metadata": {
  "kernelspec": {
   "display_name": "Python 3 (ipykernel)",
   "language": "python",
   "name": "python3"
  },
  "language_info": {
   "codemirror_mode": {
    "name": "ipython",
    "version": 3
   },
   "file_extension": ".py",
   "mimetype": "text/x-python",
   "name": "python",
   "nbconvert_exporter": "python",
   "pygments_lexer": "ipython3",
   "version": "3.11.7"
  }
 },
 "nbformat": 4,
 "nbformat_minor": 5
}
